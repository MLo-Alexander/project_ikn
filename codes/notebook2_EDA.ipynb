{
 "cells": [
  {
   "cell_type": "markdown",
   "id": "273edbcb-b462-4b13-93b8-5e99cbbba367",
   "metadata": {},
   "source": [
    "## CAPSTONE PROJECT: TWITTER SENTIMENT ANALYSIS ON INDONESIAN CAPITAL RELOCATION PLAN"
   ]
  },
  {
   "cell_type": "markdown",
   "id": "ae2a8e48-7da9-42e5-a237-65a25beb12d6",
   "metadata": {},
   "source": [
    "### This project is organized in 4 notebooks:\n",
    "<ul>\n",
    "<li>Notebook 1: scraping twitter tweets</li>\n",
    "<li>Notebook 2: Data cleaning and EDA</li>\n",
    "<li>Notebook 3: Preprocessing and Modeling 1: IndoBert sentiment analysis</li>\n",
    "<li>Notebook 4 (on Google Colab): Modeling 2, which consists of the following tasks: <\\li>\n",
    "        <ul>\n",
    "        <li>- attempt to fine-tune IndoBenchmark IndoBert model</li>\n",
    "        <li>- evaluating Bert multilingual model's performance</li>\n",
    "        <li>- topic classification with IndoBert GPT2-small</li>\n",
    "        \n",
    "</ul>"
   ]
  },
  {
   "cell_type": "markdown",
   "id": "a7105a2f-2105-4440-97b3-abd22bd21dc1",
   "metadata": {},
   "source": [
    "### This is Notebook 2"
   ]
  },
  {
   "cell_type": "markdown",
   "id": "f82e4d9d-319d-4618-ad17-5634d1cfe781",
   "metadata": {},
   "source": [
    "### Import"
   ]
  },
  {
   "cell_type": "code",
   "execution_count": 1,
   "id": "91396cce-80a9-432d-bc13-af52dcece822",
   "metadata": {},
   "outputs": [],
   "source": [
    "import pandas as pd\n",
    "import numpy as np\n",
    "import matplotlib.pyplot as plt\n",
    "import seaborn as sns\n",
    "\n",
    "import datetime\n",
    "import re\n",
    "\n",
    "sns.set_theme\n",
    "\n",
    "from sklearn.feature_extraction.text import CountVectorizer, TfidfVectorizer\n",
    "from nltk.tokenize import sent_tokenize, word_tokenize, RegexpTokenizer # RegexpTokenizer uses regex for tokenization\n",
    "from nltk.stem import WordNetLemmatizer # for lemmatization\n",
    "from nltk.stem.porter import PorterStemmer # for stemming\n",
    "from nltk.corpus import stopwords # for stopwords removal\n",
    "from nltk.sentiment.vader import SentimentIntensityAnalyzer\n",
    "\n",
    "import emoji\n",
    "import advertools as adv\n",
    "from collections import Counter\n"
   ]
  },
  {
   "cell_type": "markdown",
   "id": "746151a9-aa1f-413c-b2ca-bf16e9f883fa",
   "metadata": {},
   "source": [
    "### Load data and inspect"
   ]
  },
  {
   "cell_type": "code",
   "execution_count": 4,
   "id": "f9e6b1ba-ef27-4483-b133-bdff07964ab4",
   "metadata": {},
   "outputs": [],
   "source": [
    "tweets_df = pd.read_csv('./data/nusantara.csv')"
   ]
  },
  {
   "cell_type": "code",
   "execution_count": 3,
   "id": "e307973d-e013-42df-963c-b32008915b11",
   "metadata": {
    "scrolled": true,
    "tags": []
   },
   "outputs": [
    {
     "name": "stdout",
     "output_type": "stream",
     "text": [
      "<class 'pandas.core.frame.DataFrame'>\n",
      "RangeIndex: 12000 entries, 0 to 11999\n",
      "Data columns (total 27 columns):\n",
      " #   Column            Non-Null Count  Dtype  \n",
      "---  ------            --------------  -----  \n",
      " 0   url               12000 non-null  object \n",
      " 1   date              12000 non-null  object \n",
      " 2   content           12000 non-null  object \n",
      " 3   renderedContent   12000 non-null  object \n",
      " 4   id                12000 non-null  int64  \n",
      " 5   user              12000 non-null  object \n",
      " 6   replyCount        12000 non-null  int64  \n",
      " 7   retweetCount      12000 non-null  int64  \n",
      " 8   likeCount         12000 non-null  int64  \n",
      " 9   quoteCount        12000 non-null  int64  \n",
      " 10  conversationId    12000 non-null  int64  \n",
      " 11  lang              12000 non-null  object \n",
      " 12  source            12000 non-null  object \n",
      " 13  sourceUrl         12000 non-null  object \n",
      " 14  sourceLabel       12000 non-null  object \n",
      " 15  outlinks          4546 non-null   object \n",
      " 16  tcooutlinks       4546 non-null   object \n",
      " 17  media             6580 non-null   object \n",
      " 18  retweetedTweet    0 non-null      float64\n",
      " 19  quotedTweet       264 non-null    object \n",
      " 20  inReplyToTweetId  2360 non-null   float64\n",
      " 21  inReplyToUser     2360 non-null   object \n",
      " 22  mentionedUsers    3096 non-null   object \n",
      " 23  coordinates       622 non-null    object \n",
      " 24  place             622 non-null    object \n",
      " 25  hashtags          4426 non-null   object \n",
      " 26  cashtags          2 non-null      object \n",
      "dtypes: float64(2), int64(6), object(19)\n",
      "memory usage: 2.5+ MB\n"
     ]
    }
   ],
   "source": [
    "tweets_df.info()"
   ]
  },
  {
   "cell_type": "code",
   "execution_count": 5,
   "id": "01972a5f-1a1a-4300-920b-6991d8ae699d",
   "metadata": {},
   "outputs": [],
   "source": [
    "# remove irrelevant columns, keep the other features such as coordinates, retweet count, etc for EDA to answer a few of the research questions,\n",
    "# such as: \"where are the negative/positive sentiments from?\"\n",
    "\n",
    "tweets_df = tweets_df[['date','content','id','user','replyCount','retweetCount','likeCount','quoteCount','lang','mentionedUsers','coordinates','place']]"
   ]
  },
  {
   "cell_type": "code",
   "execution_count": 7,
   "id": "ca66e9e1-3778-4a64-b5bf-f566fc827e8d",
   "metadata": {},
   "outputs": [
    {
     "data": {
      "text/plain": [
       "array(['in', 'tr', 'en', 'ja', 'zh'], dtype=object)"
      ]
     },
     "execution_count": 7,
     "metadata": {},
     "output_type": "execute_result"
    }
   ],
   "source": [
    "# check for different languages\n",
    "\n",
    "tweets_df['lang'].unique()"
   ]
  },
  {
   "cell_type": "code",
   "execution_count": 6,
   "id": "aa57037a-7f6f-4676-93e4-03ed028c72e4",
   "metadata": {},
   "outputs": [
    {
     "name": "stdout",
     "output_type": "stream",
     "text": [
      "<class 'pandas.core.frame.DataFrame'>\n",
      "Int64Index: 11980 entries, 0 to 11999\n",
      "Data columns (total 12 columns):\n",
      " #   Column          Non-Null Count  Dtype \n",
      "---  ------          --------------  ----- \n",
      " 0   date            11980 non-null  object\n",
      " 1   content         11980 non-null  object\n",
      " 2   id              11980 non-null  int64 \n",
      " 3   user            11980 non-null  object\n",
      " 4   replyCount      11980 non-null  int64 \n",
      " 5   retweetCount    11980 non-null  int64 \n",
      " 6   likeCount       11980 non-null  int64 \n",
      " 7   quoteCount      11980 non-null  int64 \n",
      " 8   lang            11980 non-null  object\n",
      " 9   mentionedUsers  3085 non-null   object\n",
      " 10  coordinates     618 non-null    object\n",
      " 11  place           618 non-null    object\n",
      "dtypes: int64(5), object(7)\n",
      "memory usage: 1.2+ MB\n"
     ]
    }
   ],
   "source": [
    "# check for number of tweets in indonesian language\n",
    "\n",
    "lang_in = tweets_df.loc[tweets_df['lang']=='in',:]\n",
    "lang_in.info()"
   ]
  },
  {
   "cell_type": "markdown",
   "id": "eeea5217-f4de-464d-9957-54c357f1f9d4",
   "metadata": {},
   "source": [
    "**Observation:**<br>\n",
    "The result shows only 20 tweets from 12,000 total tweets are not in Bahasa Indonesia. \n",
    "For this project, I will only keep Bahasa Indonesia tweets to capture local expressions (of happiness/disappointment, etc)"
   ]
  },
  {
   "cell_type": "code",
   "execution_count": 7,
   "id": "fac038a2-05c4-4ce4-9c11-48a4dbdf3e54",
   "metadata": {},
   "outputs": [
    {
     "data": {
      "text/html": [
       "<div>\n",
       "<style scoped>\n",
       "    .dataframe tbody tr th:only-of-type {\n",
       "        vertical-align: middle;\n",
       "    }\n",
       "\n",
       "    .dataframe tbody tr th {\n",
       "        vertical-align: top;\n",
       "    }\n",
       "\n",
       "    .dataframe thead th {\n",
       "        text-align: right;\n",
       "    }\n",
       "</style>\n",
       "<table border=\"1\" class=\"dataframe\">\n",
       "  <thead>\n",
       "    <tr style=\"text-align: right;\">\n",
       "      <th></th>\n",
       "      <th>date</th>\n",
       "      <th>content</th>\n",
       "      <th>id</th>\n",
       "      <th>user</th>\n",
       "      <th>replyCount</th>\n",
       "      <th>retweetCount</th>\n",
       "      <th>likeCount</th>\n",
       "      <th>quoteCount</th>\n",
       "      <th>lang</th>\n",
       "      <th>mentionedUsers</th>\n",
       "      <th>coordinates</th>\n",
       "      <th>place</th>\n",
       "    </tr>\n",
       "  </thead>\n",
       "  <tbody>\n",
       "    <tr>\n",
       "      <th>0</th>\n",
       "      <td>2022-10-30 23:00:08+00:00</td>\n",
       "      <td>Sensasi berada di Ibu Kota Nusantara gimana ya...</td>\n",
       "      <td>1586855500200939520</td>\n",
       "      <td>{'username': 'namanyaho', 'id': 15601130292784...</td>\n",
       "      <td>0</td>\n",
       "      <td>0</td>\n",
       "      <td>0</td>\n",
       "      <td>0</td>\n",
       "      <td>in</td>\n",
       "      <td>NaN</td>\n",
       "      <td>NaN</td>\n",
       "      <td>NaN</td>\n",
       "    </tr>\n",
       "    <tr>\n",
       "      <th>1</th>\n",
       "      <td>2022-10-30 23:00:07+00:00</td>\n",
       "      <td>Dengan Metaverse bernama Jagat Nusantara anda ...</td>\n",
       "      <td>1586855495477841920</td>\n",
       "      <td>{'username': 'ahmadth41780718', 'id': 15609481...</td>\n",
       "      <td>0</td>\n",
       "      <td>0</td>\n",
       "      <td>0</td>\n",
       "      <td>0</td>\n",
       "      <td>in</td>\n",
       "      <td>NaN</td>\n",
       "      <td>NaN</td>\n",
       "      <td>NaN</td>\n",
       "    </tr>\n",
       "    <tr>\n",
       "      <th>2</th>\n",
       "      <td>2022-10-30 23:00:02+00:00</td>\n",
       "      <td>Metaversa memberikan sensasi berada di Ibu kot...</td>\n",
       "      <td>1586855476364341249</td>\n",
       "      <td>{'username': '_inibiann', 'id': 14740304717638...</td>\n",
       "      <td>0</td>\n",
       "      <td>0</td>\n",
       "      <td>0</td>\n",
       "      <td>0</td>\n",
       "      <td>in</td>\n",
       "      <td>NaN</td>\n",
       "      <td>NaN</td>\n",
       "      <td>NaN</td>\n",
       "    </tr>\n",
       "    <tr>\n",
       "      <th>3</th>\n",
       "      <td>2022-10-30 23:00:01+00:00</td>\n",
       "      <td>Meski pembangunan IKN baru tahap awal, melalui...</td>\n",
       "      <td>1586855472602259457</td>\n",
       "      <td>{'username': 'Aleasha_sya', 'id': 152468319407...</td>\n",
       "      <td>0</td>\n",
       "      <td>0</td>\n",
       "      <td>0</td>\n",
       "      <td>0</td>\n",
       "      <td>in</td>\n",
       "      <td>NaN</td>\n",
       "      <td>NaN</td>\n",
       "      <td>NaN</td>\n",
       "    </tr>\n",
       "    <tr>\n",
       "      <th>4</th>\n",
       "      <td>2022-10-30 23:00:01+00:00</td>\n",
       "      <td>Meskipun pembangunan IKN baru tahap awal,namun...</td>\n",
       "      <td>1586855472124108801</td>\n",
       "      <td>{'username': 'aryati_silvi', 'id': 15778978919...</td>\n",
       "      <td>0</td>\n",
       "      <td>0</td>\n",
       "      <td>0</td>\n",
       "      <td>0</td>\n",
       "      <td>in</td>\n",
       "      <td>NaN</td>\n",
       "      <td>NaN</td>\n",
       "      <td>NaN</td>\n",
       "    </tr>\n",
       "  </tbody>\n",
       "</table>\n",
       "</div>"
      ],
      "text/plain": [
       "                        date  \\\n",
       "0  2022-10-30 23:00:08+00:00   \n",
       "1  2022-10-30 23:00:07+00:00   \n",
       "2  2022-10-30 23:00:02+00:00   \n",
       "3  2022-10-30 23:00:01+00:00   \n",
       "4  2022-10-30 23:00:01+00:00   \n",
       "\n",
       "                                             content                   id  \\\n",
       "0  Sensasi berada di Ibu Kota Nusantara gimana ya...  1586855500200939520   \n",
       "1  Dengan Metaverse bernama Jagat Nusantara anda ...  1586855495477841920   \n",
       "2  Metaversa memberikan sensasi berada di Ibu kot...  1586855476364341249   \n",
       "3  Meski pembangunan IKN baru tahap awal, melalui...  1586855472602259457   \n",
       "4  Meskipun pembangunan IKN baru tahap awal,namun...  1586855472124108801   \n",
       "\n",
       "                                                user  replyCount  \\\n",
       "0  {'username': 'namanyaho', 'id': 15601130292784...           0   \n",
       "1  {'username': 'ahmadth41780718', 'id': 15609481...           0   \n",
       "2  {'username': '_inibiann', 'id': 14740304717638...           0   \n",
       "3  {'username': 'Aleasha_sya', 'id': 152468319407...           0   \n",
       "4  {'username': 'aryati_silvi', 'id': 15778978919...           0   \n",
       "\n",
       "   retweetCount  likeCount  quoteCount lang mentionedUsers coordinates place  \n",
       "0             0          0           0   in            NaN         NaN   NaN  \n",
       "1             0          0           0   in            NaN         NaN   NaN  \n",
       "2             0          0           0   in            NaN         NaN   NaN  \n",
       "3             0          0           0   in            NaN         NaN   NaN  \n",
       "4             0          0           0   in            NaN         NaN   NaN  "
      ]
     },
     "execution_count": 7,
     "metadata": {},
     "output_type": "execute_result"
    }
   ],
   "source": [
    "tweets_df = lang_in\n",
    "tweets_df.head()"
   ]
  },
  {
   "cell_type": "code",
   "execution_count": 10,
   "id": "68591afc-c334-44d6-aa8e-b30651361f03",
   "metadata": {},
   "outputs": [
    {
     "data": {
      "text/plain": [
       "11980"
      ]
     },
     "execution_count": 10,
     "metadata": {},
     "output_type": "execute_result"
    }
   ],
   "source": [
    "# check for unique ids:\n",
    "tweets_df['id'].nunique()"
   ]
  },
  {
   "cell_type": "markdown",
   "id": "29b5b0ca-57fe-4b29-a33e-752516c396ac",
   "metadata": {},
   "source": [
    "### Data cleaning: remove duplicates from retweets, hashtags, mentions, urls, numbers.\n",
    "\n",
    "The goal is to remove re-tweets, hashtags, mentions, urls, numbers, special characters, to be exported for human annotation. For this purpose, stopwords and emojis are not removed/changed to preserve tweets' meanings. They will be removed during pre-processing for modeling purpose."
   ]
  },
  {
   "cell_type": "code",
   "execution_count": 8,
   "id": "bda38704-60f2-466d-ab1e-3966141d00b7",
   "metadata": {},
   "outputs": [
    {
     "name": "stdout",
     "output_type": "stream",
     "text": [
      "<class 'pandas.core.frame.DataFrame'>\n",
      "Int64Index: 11980 entries, 0 to 11999\n",
      "Data columns (total 2 columns):\n",
      " #   Column   Non-Null Count  Dtype \n",
      "---  ------   --------------  ----- \n",
      " 0   id       11980 non-null  int64 \n",
      " 1   content  11980 non-null  object\n",
      "dtypes: int64(1), object(1)\n",
      "memory usage: 280.8+ KB\n",
      "None\n",
      "                    id                                            content\n",
      "0  1586855500200939520  Sensasi berada di Ibu Kota Nusantara gimana ya...\n",
      "1  1586855495477841920  Dengan Metaverse bernama Jagat Nusantara anda ...\n",
      "2  1586855476364341249  Metaversa memberikan sensasi berada di Ibu kot...\n",
      "3  1586855472602259457  Meski pembangunan IKN baru tahap awal, melalui...\n",
      "4  1586855472124108801  Meskipun pembangunan IKN baru tahap awal,namun...\n"
     ]
    },
    {
     "name": "stderr",
     "output_type": "stream",
     "text": [
      "C:\\Users\\Meriky Alexander\\AppData\\Local\\Temp\\ipykernel_11956\\164489712.py:4: SettingWithCopyWarning: \n",
      "A value is trying to be set on a copy of a slice from a DataFrame\n",
      "\n",
      "See the caveats in the documentation: https://pandas.pydata.org/pandas-docs/stable/user_guide/indexing.html#returning-a-view-versus-a-copy\n",
      "  content_df.drop_duplicates(inplace=True)\n"
     ]
    }
   ],
   "source": [
    "# establish a dataframe of content for modeling, keep tweets and ids only\n",
    "\n",
    "content_df = tweets_df[['id','content']]\n",
    "content_df.drop_duplicates(inplace=True)\n",
    "print(content_df.info())\n",
    "print(content_df.head())"
   ]
  },
  {
   "cell_type": "code",
   "execution_count": 12,
   "id": "f3ac2ef4-1a3d-4a29-9c83-d9c18a156d48",
   "metadata": {},
   "outputs": [
    {
     "name": "stdout",
     "output_type": "stream",
     "text": [
      "Sensasi berada di Ibu Kota Nusantara gimana ya rasanya? \n",
      " #SemangatPerkuatNegeri #IKNNusantara https://t.co/QLMgkMkqop\n",
      "Dengan Metaverse bernama Jagat Nusantara anda bisa merasakan sensasi berada di Ibu Kota Nusantara #SemangatPerkuatNegeri #IKNNusantara https://t.co/2CIfT7maQF\n",
      "Metaversa memberikan sensasi berada di Ibu kota nusantara ini bernama Jagat Nusantara. #SemangatPerkuatNegeri #ApaItuIKNNusantara https://t.co/tQT1D2RLio\n",
      "Meski pembangunan IKN baru tahap awal, melalui Metaverse di IKN yang bernama Jagat Nusantara kita bisa merasakan sensasi berada di Ibu Kota Nusantara (IKN).  \n",
      "#SemangatPerkuatNegeri \n",
      "#ApaItuIKNNusantara https://t.co/VoYsWIw4BC\n",
      "Meskipun pembangunan IKN baru tahap awal,namun kalian bisa merasakan sensasi berada di Ibu Kota Nusantara melalui metaverse bernama Jagat Nusantara.\n",
      "#SemangatPerkuatNegeri #IKNNusantara https://t.co/LTp3YrAktR\n",
      "metaverse baru, Jagat Nusantara yang diluncurkan dapat memberikan sensasi berada di Ibu Kota Nusantara #SemangatPerkuatNegeri #IKNNusantara https://t.co/t2BCKVA5Zn\n",
      "Metaverse di IKN itu bernama jagat Nusantara, masyarakat dapat merasakan sensasi berasa di ibu kota Nusantara #SemangatPerkuatNegeri #ApaItuIKNNusantara https://t.co/v5LOICdJnd\n",
      "Melalui Metaverse Jagat Nusantara kalian bisa merasakan sensasi berada di ibu kota nusantara #SemangatPerkuatNegeri #ApaItuIKNNusantara https://t.co/0NT2F2Yz7x\n",
      "Nama metaverse di Ibu Kota Nusantara atau IKN adalah Jagat Nusantara #SemangatPerkuatNegeri #IKNNusantara https://t.co/08IB6wCnGs\n",
      "Meski pembangunan tahap bary, namun bisa merasakan sensasi berada di ibu kota nusantara #SemangatPerkuatNegeri #IKNNusantara https://t.co/SNktSyFbmD\n"
     ]
    }
   ],
   "source": [
    "# inspect the first 10 contents\n",
    "\n",
    "for i in content_df['content'].head(10):\n",
    "    print(i)"
   ]
  },
  {
   "cell_type": "markdown",
   "id": "dc09a4a6-2689-45f1-bbbb-aa669e1d036e",
   "metadata": {},
   "source": [
    "**Observation:**<br>\n",
    "Almost all tweets contain hashtags (#) and url links (https://), some of them may contain mentions (@) too. I need to clean these before modeling. Not many numbers are present, I am going to remove numbers too because their presence, if any, does not contribute to a tweet's sentiment."
   ]
  },
  {
   "cell_type": "code",
   "execution_count": 9,
   "id": "69419b2c-df3c-4d06-a1a3-1246c3a94038",
   "metadata": {},
   "outputs": [
    {
     "data": {
      "text/plain": [
       "['sensasi berada di ibu kota nusantara gimana ya rasanya',\n",
       " 'dengan metaverse bernama jagat nusantara anda bisa merasakan sensasi berada di ibu kota nusantara',\n",
       " 'metaversa memberikan sensasi berada di ibu kota nusantara ini bernama jagat nusantara',\n",
       " 'meski pembangunan ikn baru tahap awal melalui metaverse di ikn yang bernama jagat nusantara kita bisa merasakan sensasi berada di ibu kota nusantara ikn',\n",
       " 'meskipun pembangunan ikn baru tahap awalnamun kalian bisa merasakan sensasi berada di ibu kota nusantara melalui metaverse bernama jagat nusantara',\n",
       " 'metaverse baru jagat nusantara yang diluncurkan dapat memberikan sensasi berada di ibu kota nusantara',\n",
       " 'metaverse di ikn itu bernama jagat nusantara masyarakat dapat merasakan sensasi berasa di ibu kota nusantara',\n",
       " 'melalui metaverse jagat nusantara kalian bisa merasakan sensasi berada di ibu kota nusantara',\n",
       " 'nama metaverse di ibu kota nusantara atau ikn adalah jagat nusantara',\n",
       " 'meski pembangunan tahap bary namun bisa merasakan sensasi berada di ibu kota nusantara',\n",
       " 'wah keren sekali melalui metaverse jagat nusantara kita bisa merasakan sensasi di ibu kota nusantara semoga pembangunan ikn berjalan baik',\n",
       " 'kita bisa merasakan sensasi berada di ibu kota nusantara melalui metaverse bernama jagat nusantara',\n",
       " 'wah keren banget guys kita bisa ngerasain sensasi berada di ibu kota nusantara ikn dengan metaverse jagat nusantara',\n",
       " 'peran tni al sangat penting dalam pengawalan serta menjaga keamanan di wilayah perairan ibu kota nusantara\\ntetap semangat dan maju terus  jaga lautan indonesia kita tercinta',\n",
       " 'ibu kota nusantara ikn dirancang sebagai kota yang inklusif untuk semua lapisan masyarakat\\n\\nuntuk itu mari bersamasama torehkan sejarah membangun peradaban baru ikn sebagai kota dunia untuk semua',\n",
       " 'ppu  satgas ops nusantara polda kaltim regu a melaksanakan patroli sambang kamtibmas serta pengamanan di beberapa titik penting di kawasan ibu kota negara ikn\\nselengkapnya baca disini',\n",
       " 'gambaran ibu kota negara ikn yang bernama jagat nusantara sangat menarik bukan \\n\\nkompas juga menginfokan bahwa untuk memainkan platform ini tidak ada biaya sepeserpun jadii siapa saja bisa merasakan sensasi berada di ikn nusantara',\n",
       " 'pemerintah membangun bendungan sepaku semoi untuk penyediaan air baku di ibu kota nusantara ikn',\n",
       " 'pemerintah membangun bendungan sepaku semoi untuk penyediaan air baku di ibu kota nusantara ikn',\n",
       " 'pemerintah membangun bendungan sepaku semoi untuk penyediaan air baku di ibu kota nusantara ikn']"
      ]
     },
     "execution_count": 9,
     "metadata": {},
     "output_type": "execute_result"
    }
   ],
   "source": [
    "# find and remove all hashtags (#), mentions (@) urls (http), numbers using regex:\n",
    "\n",
    "tweet_list=[]\n",
    "for tweet in content_df['content']:\n",
    "    clean_tweet = re.sub(\"#[A-Za-z0-9_]+\",\"\",tweet) # remove hashtags\n",
    "    clean_tweet = re.sub(\"@[A-Za-z0-9_]+\",\"\",clean_tweet) # remove mentions\n",
    "    clean_tweet = re.sub(r\"http\\S+\",\"\",clean_tweet) # remove urls\n",
    "    clean_tweet = re.sub(r'[^a-zA-Z\\s]', '',clean_tweet).strip().lower() # remove special characters, numbers, punctuations, whitespace, and set to lowercase\n",
    "    \n",
    "    tweet_list.append(clean_tweet)   \n",
    "    \n",
    "# checking the clean list\n",
    "tweet_list[:20]"
   ]
  },
  {
   "cell_type": "code",
   "execution_count": 10,
   "id": "5939a695-84a8-483c-9fab-e3a85d6e90c2",
   "metadata": {},
   "outputs": [
    {
     "name": "stderr",
     "output_type": "stream",
     "text": [
      "C:\\Users\\Meriky Alexander\\AppData\\Local\\Temp\\ipykernel_11956\\2482698726.py:3: SettingWithCopyWarning: \n",
      "A value is trying to be set on a copy of a slice from a DataFrame.\n",
      "Try using .loc[row_indexer,col_indexer] = value instead\n",
      "\n",
      "See the caveats in the documentation: https://pandas.pydata.org/pandas-docs/stable/user_guide/indexing.html#returning-a-view-versus-a-copy\n",
      "  content_df['tweets'] = tweet_list\n",
      "C:\\Users\\Meriky Alexander\\AppData\\Local\\Temp\\ipykernel_11956\\2482698726.py:4: SettingWithCopyWarning: \n",
      "A value is trying to be set on a copy of a slice from a DataFrame.\n",
      "Try using .loc[row_indexer,col_indexer] = value instead\n",
      "\n",
      "See the caveats in the documentation: https://pandas.pydata.org/pandas-docs/stable/user_guide/indexing.html#returning-a-view-versus-a-copy\n",
      "  content_df['sentiment'] =''\n",
      "C:\\Users\\Meriky Alexander\\AppData\\Local\\Temp\\ipykernel_11956\\2482698726.py:5: SettingWithCopyWarning: \n",
      "A value is trying to be set on a copy of a slice from a DataFrame\n",
      "\n",
      "See the caveats in the documentation: https://pandas.pydata.org/pandas-docs/stable/user_guide/indexing.html#returning-a-view-versus-a-copy\n",
      "  content_df.drop(columns=['content'],inplace=True)\n"
     ]
    }
   ],
   "source": [
    "# putting the clean column back in the dataframe, add a new column empty called 'sentiment' for labeling sentiments, remove the old content column.\n",
    "\n",
    "content_df['tweets'] = tweet_list\n",
    "content_df['sentiment'] =''\n",
    "content_df.drop(columns=['content'],inplace=True)"
   ]
  },
  {
   "cell_type": "code",
   "execution_count": 11,
   "id": "e908bda2-d4de-46b0-ad04-aa430238540b",
   "metadata": {},
   "outputs": [
    {
     "name": "stdout",
     "output_type": "stream",
     "text": [
      "<class 'pandas.core.frame.DataFrame'>\n",
      "Int64Index: 8756 entries, 0 to 11999\n",
      "Data columns (total 3 columns):\n",
      " #   Column     Non-Null Count  Dtype \n",
      "---  ------     --------------  ----- \n",
      " 0   id         8756 non-null   int64 \n",
      " 1   tweets     8756 non-null   object\n",
      " 2   sentiment  8756 non-null   object\n",
      "dtypes: int64(1), object(2)\n",
      "memory usage: 273.6+ KB\n"
     ]
    },
    {
     "name": "stderr",
     "output_type": "stream",
     "text": [
      "C:\\Users\\Meriky Alexander\\AppData\\Local\\Temp\\ipykernel_11956\\2481305726.py:3: SettingWithCopyWarning: \n",
      "A value is trying to be set on a copy of a slice from a DataFrame\n",
      "\n",
      "See the caveats in the documentation: https://pandas.pydata.org/pandas-docs/stable/user_guide/indexing.html#returning-a-view-versus-a-copy\n",
      "  content_df.drop_duplicates(subset=['tweets'],inplace=True)\n"
     ]
    }
   ],
   "source": [
    "# remove rows with identical tweets. \n",
    "\n",
    "content_df.drop_duplicates(subset=['tweets'],inplace=True)\n",
    "content_df.info()"
   ]
  },
  {
   "cell_type": "code",
   "execution_count": 32,
   "id": "abc7787d-2c11-4fc4-abe1-ebef6eb8abff",
   "metadata": {},
   "outputs": [],
   "source": [
    "# Save to csv file to be exported for human annotating\n",
    "\n",
    "content_df.to_csv('../data/nusantara_tweets.csv',index=False)"
   ]
  },
  {
   "cell_type": "markdown",
   "id": "db4e6a3e-6291-497a-9f27-7e4a9f338731",
   "metadata": {},
   "source": [
    "### EDA 1. Plotting tweets distribution over time and geolocation"
   ]
  },
  {
   "cell_type": "markdown",
   "id": "da436f27-1642-4210-8004-8a6987903a59",
   "metadata": {},
   "source": [
    "#### Plotting tweets distribution over time"
   ]
  },
  {
   "cell_type": "code",
   "execution_count": 101,
   "id": "de866832-011c-46f0-8454-bf0f9ad8e720",
   "metadata": {},
   "outputs": [
    {
     "name": "stdout",
     "output_type": "stream",
     "text": [
      "<class 'pandas.core.frame.DataFrame'>\n",
      "Int64Index: 8756 entries, 0 to 8755\n",
      "Data columns (total 4 columns):\n",
      " #   Column     Non-Null Count  Dtype \n",
      "---  ------     --------------  ----- \n",
      " 0   date       8756 non-null   object\n",
      " 1   id         8756 non-null   int64 \n",
      " 2   tweets     8756 non-null   object\n",
      " 3   sentiment  8756 non-null   object\n",
      "dtypes: int64(1), object(3)\n",
      "memory usage: 342.0+ KB\n"
     ]
    }
   ],
   "source": [
    "# add in the dates for plotting data distribution over time\n",
    "\n",
    "dated_content_df = pd.merge(left=content_df, right=tweets_df, how=\"inner\", on=\"id\")\n",
    "dated_content_df=dated_content_df[['date','id','tweets','sentiment']]\n",
    "dated_content_df.info()"
   ]
  },
  {
   "cell_type": "code",
   "execution_count": 102,
   "id": "bbe50ee4-5ce1-4fb5-8af9-de80979b0e38",
   "metadata": {},
   "outputs": [],
   "source": [
    "dated_content_df['date']=pd.to_datetime(dated_content_df['date'])"
   ]
  },
  {
   "cell_type": "code",
   "execution_count": 103,
   "id": "6cf474d1-eddd-4c06-8294-bd16cf0da03b",
   "metadata": {},
   "outputs": [],
   "source": [
    "# remove time from dates and convert to datetime object\n",
    "\n",
    "#remove time:\n",
    "dates =[]\n",
    "for datetime in dated_content_df['date']:\n",
    "    date = datetime.strftime('%Y-%m-%d')\n",
    "    dates.append(date)\n",
    "    \n",
    "# assign the dates back into dataframe date column:\n",
    "dated_content_df['date']=dates\n",
    "\n",
    "# convert date column to datetime object and make it into the dataframe index:\n",
    "dated_content_df['date'] = pd.to_datetime(dated_content_df['date'])\n",
    "dated_content_df=dated_content_df.set_index('date')\n",
    "dated_content_df.sort_index(ascending=False,inplace=True)"
   ]
  },
  {
   "cell_type": "code",
   "execution_count": 19,
   "id": "b9d4cc8f-9cea-4f87-aade-ba1e240a1729",
   "metadata": {},
   "outputs": [
    {
     "data": {
      "text/html": [
       "<div>\n",
       "<style scoped>\n",
       "    .dataframe tbody tr th:only-of-type {\n",
       "        vertical-align: middle;\n",
       "    }\n",
       "\n",
       "    .dataframe tbody tr th {\n",
       "        vertical-align: top;\n",
       "    }\n",
       "\n",
       "    .dataframe thead th {\n",
       "        text-align: right;\n",
       "    }\n",
       "</style>\n",
       "<table border=\"1\" class=\"dataframe\">\n",
       "  <thead>\n",
       "    <tr style=\"text-align: right;\">\n",
       "      <th></th>\n",
       "      <th>id</th>\n",
       "      <th>tweets</th>\n",
       "      <th>sentiment</th>\n",
       "    </tr>\n",
       "    <tr>\n",
       "      <th>date</th>\n",
       "      <th></th>\n",
       "      <th></th>\n",
       "      <th></th>\n",
       "    </tr>\n",
       "  </thead>\n",
       "  <tbody>\n",
       "    <tr>\n",
       "      <th>2022-10-30</th>\n",
       "      <td>1586855500200939520</td>\n",
       "      <td>sensasi berada di ibu kota nusantara gimana ya...</td>\n",
       "      <td></td>\n",
       "    </tr>\n",
       "    <tr>\n",
       "      <th>2022-10-30</th>\n",
       "      <td>1586855495477841920</td>\n",
       "      <td>dengan metaverse bernama jagat nusantara anda ...</td>\n",
       "      <td></td>\n",
       "    </tr>\n",
       "    <tr>\n",
       "      <th>2022-10-30</th>\n",
       "      <td>1586855476364341249</td>\n",
       "      <td>metaversa memberikan sensasi berada di ibu kot...</td>\n",
       "      <td></td>\n",
       "    </tr>\n",
       "    <tr>\n",
       "      <th>2022-10-30</th>\n",
       "      <td>1586855472602259457</td>\n",
       "      <td>meski pembangunan ikn baru tahap awal melalui ...</td>\n",
       "      <td></td>\n",
       "    </tr>\n",
       "    <tr>\n",
       "      <th>2022-10-30</th>\n",
       "      <td>1586855472124108801</td>\n",
       "      <td>meskipun pembangunan ikn baru tahap awalnamun ...</td>\n",
       "      <td></td>\n",
       "    </tr>\n",
       "  </tbody>\n",
       "</table>\n",
       "</div>"
      ],
      "text/plain": [
       "                             id  \\\n",
       "date                              \n",
       "2022-10-30  1586855500200939520   \n",
       "2022-10-30  1586855495477841920   \n",
       "2022-10-30  1586855476364341249   \n",
       "2022-10-30  1586855472602259457   \n",
       "2022-10-30  1586855472124108801   \n",
       "\n",
       "                                                       tweets sentiment  \n",
       "date                                                                     \n",
       "2022-10-30  sensasi berada di ibu kota nusantara gimana ya...            \n",
       "2022-10-30  dengan metaverse bernama jagat nusantara anda ...            \n",
       "2022-10-30  metaversa memberikan sensasi berada di ibu kot...            \n",
       "2022-10-30  meski pembangunan ikn baru tahap awal melalui ...            \n",
       "2022-10-30  meskipun pembangunan ikn baru tahap awalnamun ...            "
      ]
     },
     "execution_count": 19,
     "metadata": {},
     "output_type": "execute_result"
    }
   ],
   "source": [
    "dated_content_df.head()"
   ]
  },
  {
   "cell_type": "markdown",
   "id": "1c350e41-dde2-48e6-8af9-605fd797564e",
   "metadata": {},
   "source": [
    "Inspect tweets distribution over months, weeks, and days"
   ]
  },
  {
   "cell_type": "code",
   "execution_count": 104,
   "id": "0c84e343-16d7-4c76-8bdc-db71adfcd450",
   "metadata": {},
   "outputs": [
    {
     "data": {
      "text/html": [
       "<div>\n",
       "<style scoped>\n",
       "    .dataframe tbody tr th:only-of-type {\n",
       "        vertical-align: middle;\n",
       "    }\n",
       "\n",
       "    .dataframe tbody tr th {\n",
       "        vertical-align: top;\n",
       "    }\n",
       "\n",
       "    .dataframe thead th {\n",
       "        text-align: right;\n",
       "    }\n",
       "</style>\n",
       "<table border=\"1\" class=\"dataframe\">\n",
       "  <thead>\n",
       "    <tr style=\"text-align: right;\">\n",
       "      <th></th>\n",
       "      <th>tweets</th>\n",
       "    </tr>\n",
       "    <tr>\n",
       "      <th>date</th>\n",
       "      <th></th>\n",
       "    </tr>\n",
       "  </thead>\n",
       "  <tbody>\n",
       "    <tr>\n",
       "      <th>2022-03-31</th>\n",
       "      <td>2653</td>\n",
       "    </tr>\n",
       "    <tr>\n",
       "      <th>2022-04-30</th>\n",
       "      <td>777</td>\n",
       "    </tr>\n",
       "    <tr>\n",
       "      <th>2022-05-31</th>\n",
       "      <td>641</td>\n",
       "    </tr>\n",
       "    <tr>\n",
       "      <th>2022-06-30</th>\n",
       "      <td>1139</td>\n",
       "    </tr>\n",
       "    <tr>\n",
       "      <th>2022-07-31</th>\n",
       "      <td>808</td>\n",
       "    </tr>\n",
       "    <tr>\n",
       "      <th>2022-08-31</th>\n",
       "      <td>927</td>\n",
       "    </tr>\n",
       "    <tr>\n",
       "      <th>2022-09-30</th>\n",
       "      <td>590</td>\n",
       "    </tr>\n",
       "    <tr>\n",
       "      <th>2022-10-31</th>\n",
       "      <td>1221</td>\n",
       "    </tr>\n",
       "  </tbody>\n",
       "</table>\n",
       "</div>"
      ],
      "text/plain": [
       "            tweets\n",
       "date              \n",
       "2022-03-31    2653\n",
       "2022-04-30     777\n",
       "2022-05-31     641\n",
       "2022-06-30    1139\n",
       "2022-07-31     808\n",
       "2022-08-31     927\n",
       "2022-09-30     590\n",
       "2022-10-31    1221"
      ]
     },
     "execution_count": 104,
     "metadata": {},
     "output_type": "execute_result"
    }
   ],
   "source": [
    "monthly_tweets=dated_content_df.resample('M').agg({'tweets':'size'})\n",
    "monthly_tweets"
   ]
  },
  {
   "cell_type": "code",
   "execution_count": 105,
   "id": "5e2ce02f-2d16-460b-9776-8c4677a49dc0",
   "metadata": {},
   "outputs": [
    {
     "data": {
      "text/html": [
       "<div>\n",
       "<style scoped>\n",
       "    .dataframe tbody tr th:only-of-type {\n",
       "        vertical-align: middle;\n",
       "    }\n",
       "\n",
       "    .dataframe tbody tr th {\n",
       "        vertical-align: top;\n",
       "    }\n",
       "\n",
       "    .dataframe thead th {\n",
       "        text-align: right;\n",
       "    }\n",
       "</style>\n",
       "<table border=\"1\" class=\"dataframe\">\n",
       "  <thead>\n",
       "    <tr style=\"text-align: right;\">\n",
       "      <th></th>\n",
       "      <th>tweets</th>\n",
       "    </tr>\n",
       "    <tr>\n",
       "      <th>date</th>\n",
       "      <th></th>\n",
       "    </tr>\n",
       "  </thead>\n",
       "  <tbody>\n",
       "    <tr>\n",
       "      <th>2022-03-06</th>\n",
       "      <td>43</td>\n",
       "    </tr>\n",
       "    <tr>\n",
       "      <th>2022-03-13</th>\n",
       "      <td>733</td>\n",
       "    </tr>\n",
       "    <tr>\n",
       "      <th>2022-03-20</th>\n",
       "      <td>1415</td>\n",
       "    </tr>\n",
       "    <tr>\n",
       "      <th>2022-03-27</th>\n",
       "      <td>304</td>\n",
       "    </tr>\n",
       "    <tr>\n",
       "      <th>2022-04-03</th>\n",
       "      <td>241</td>\n",
       "    </tr>\n",
       "  </tbody>\n",
       "</table>\n",
       "</div>"
      ],
      "text/plain": [
       "            tweets\n",
       "date              \n",
       "2022-03-06      43\n",
       "2022-03-13     733\n",
       "2022-03-20    1415\n",
       "2022-03-27     304\n",
       "2022-04-03     241"
      ]
     },
     "execution_count": 105,
     "metadata": {},
     "output_type": "execute_result"
    }
   ],
   "source": [
    "weekly_tweets=dated_content_df.resample('W').agg({'tweets':'size'})\n",
    "weekly_tweets.head()"
   ]
  },
  {
   "cell_type": "code",
   "execution_count": 106,
   "id": "a8ba93c2-bfda-492f-aaf9-8521163ec432",
   "metadata": {},
   "outputs": [
    {
     "data": {
      "text/plain": [
       "(239, 1)"
      ]
     },
     "execution_count": 106,
     "metadata": {},
     "output_type": "execute_result"
    }
   ],
   "source": [
    "daily_tweets=dated_content_df.resample('D').agg({'tweets':'size'})\n",
    "daily_tweets.shape"
   ]
  },
  {
   "cell_type": "code",
   "execution_count": 23,
   "id": "29794ed7-a012-48d4-a7e3-509e2054e750",
   "metadata": {},
   "outputs": [
    {
     "data": {
      "image/png": "[encoded data removed]",
      "text/plain": [
       "<Figure size 1200x500 with 1 Axes>"
      ]
     },
     "metadata": {},
     "output_type": "display_data"
    }
   ],
   "source": [
    "# plotting tweet distributions over time: monthly, weekly, daily\n",
    "\n",
    "plt.figure(figsize=(12,5))\n",
    "\n",
    "plt.plot(monthly_tweets['tweets'], c=\"royalblue\", label=\"monthly\")\n",
    "plt.plot(weekly_tweets['tweets'], c=\"limegreen\", label=\"weekly\")    \n",
    "plt.plot(daily_tweets['tweets'], c=\"magenta\", label=\"daily\")\n",
    "plt.xticks(rotation=45)\n",
    "\n",
    "plt.legend(loc='best')\n",
    "plt.ylabel(\"number of tweets\")\n",
    "plt.title(\"Distribution of tweets over time periods\")\n",
    "plt.show()"
   ]
  },
  {
   "cell_type": "markdown",
   "id": "d0a80144-5032-4e0e-9d40-086d0798e9b7",
   "metadata": {},
   "source": [
    "**Observation:**\n",
    "It is observed that tweet number is highest around mid-March, coinciding with an important event when the President visited and camped on the site of the new capital between 13th to 15th March. The graph also shows an increase in tweet number close to end of October. This is another milestone in 2022, when the President launched the virtual capital city in the metaverse."
   ]
  },
  {
   "cell_type": "markdown",
   "id": "dbcb4a5e-a5d3-43a3-9a36-e33ae665e35a",
   "metadata": {},
   "source": [
    "#### Study the geolocation distribution of tweets"
   ]
  },
  {
   "cell_type": "code",
   "execution_count": 50,
   "id": "11056c3e-1c2f-4d7f-b22a-6710911d8f9e",
   "metadata": {},
   "outputs": [
    {
     "name": "stdout",
     "output_type": "stream",
     "text": [
      "<class 'pandas.core.frame.DataFrame'>\n",
      "Int64Index: 8756 entries, 0 to 8755\n",
      "Data columns (total 5 columns):\n",
      " #   Column       Non-Null Count  Dtype \n",
      "---  ------       --------------  ----- \n",
      " 0   id           8756 non-null   int64 \n",
      " 1   coordinates  448 non-null    object\n",
      " 2   place        448 non-null    object\n",
      " 3   tweets       8756 non-null   object\n",
      " 4   sentiment    8756 non-null   object\n",
      "dtypes: int64(1), object(4)\n",
      "memory usage: 410.4+ KB\n"
     ]
    }
   ],
   "source": [
    "# merge data to get geographical coordinate and place name column\n",
    "\n",
    "location_content_df = pd.merge(left=content_df, right=tweets_df, how=\"inner\", on=\"id\")\n",
    "location_content_df=location_content_df[['id','coordinates','place','tweets','sentiment']]\n",
    "location_content_df.info()"
   ]
  },
  {
   "cell_type": "markdown",
   "id": "6e65a977-93e0-4e68-86bb-f4a7bc1292fa",
   "metadata": {},
   "source": [
    "**Observation:**\n",
    "There are 475 rows with geolocation tags"
   ]
  },
  {
   "cell_type": "code",
   "execution_count": 54,
   "id": "b64a2af5-302f-41f8-867b-7917ae5cb136",
   "metadata": {},
   "outputs": [
    {
     "name": "stdout",
     "output_type": "stream",
     "text": [
      "<class 'pandas.core.frame.DataFrame'>\n",
      "Int64Index: 448 entries, 72 to 8753\n",
      "Data columns (total 5 columns):\n",
      " #   Column       Non-Null Count  Dtype \n",
      "---  ------       --------------  ----- \n",
      " 0   id           448 non-null    int64 \n",
      " 1   coordinates  448 non-null    object\n",
      " 2   place        448 non-null    object\n",
      " 3   tweets       448 non-null    object\n",
      " 4   sentiment    448 non-null    object\n",
      "dtypes: int64(1), object(4)\n",
      "memory usage: 21.0+ KB\n"
     ]
    }
   ],
   "source": [
    "# keep only rows with coordinates\n",
    "\n",
    "location_content_df = location_content_df.loc[location_content_df['coordinates'].notnull(),:]\n",
    "location_content_df.info()"
   ]
  },
  {
   "cell_type": "markdown",
   "id": "35faa0c4-e407-4338-81ea-3ca6342bb584",
   "metadata": {},
   "source": [
    "**Observation:**\n",
    "Coordinates and place columns are dictionaries. The next two steps are done to split them into several columns with specific information e.g. longitude, latitude, city name, etc."
   ]
  },
  {
   "cell_type": "code",
   "execution_count": 52,
   "id": "a2da5bf6-e15d-4656-a86a-16a9ffbe35b9",
   "metadata": {},
   "outputs": [
    {
     "data": {
      "text/html": [
       "<div>\n",
       "<style scoped>\n",
       "    .dataframe tbody tr th:only-of-type {\n",
       "        vertical-align: middle;\n",
       "    }\n",
       "\n",
       "    .dataframe tbody tr th {\n",
       "        vertical-align: top;\n",
       "    }\n",
       "\n",
       "    .dataframe thead th {\n",
       "        text-align: right;\n",
       "    }\n",
       "</style>\n",
       "<table border=\"1\" class=\"dataframe\">\n",
       "  <thead>\n",
       "    <tr style=\"text-align: right;\">\n",
       "      <th></th>\n",
       "      <th>id</th>\n",
       "      <th>place</th>\n",
       "      <th>tweets</th>\n",
       "      <th>sentiment</th>\n",
       "      <th>longitude</th>\n",
       "      <th>latitude</th>\n",
       "    </tr>\n",
       "  </thead>\n",
       "  <tbody>\n",
       "    <tr>\n",
       "      <th>72</th>\n",
       "      <td>1586266266284662784</td>\n",
       "      <td>{'fullName': 'Medan Petisah, Indonesia', 'name...</td>\n",
       "      <td>jagatio merupakan platforn dunia virtual perta...</td>\n",
       "      <td></td>\n",
       "      <td>98.644929</td>\n",
       "      <td>3.601620</td>\n",
       "    </tr>\n",
       "    <tr>\n",
       "      <th>80</th>\n",
       "      <td>1586236330555514880</td>\n",
       "      <td>{'fullName': 'General Affair Sub Department ( ...</td>\n",
       "      <td>info  jagat nusantara tampilkan dunia virtual ...</td>\n",
       "      <td></td>\n",
       "      <td>95.329260</td>\n",
       "      <td>5.550990</td>\n",
       "    </tr>\n",
       "    <tr>\n",
       "      <th>81</th>\n",
       "      <td>1586235315911462913</td>\n",
       "      <td>{'fullName': 'Adi Guna Group', 'name': 'Adi Gu...</td>\n",
       "      <td>news  jagat nusantara tampilkan dunia virtual ...</td>\n",
       "      <td></td>\n",
       "      <td>95.344720</td>\n",
       "      <td>5.549163</td>\n",
       "    </tr>\n",
       "    <tr>\n",
       "      <th>83</th>\n",
       "      <td>1586207720436158465</td>\n",
       "      <td>{'fullName': 'East Borneo, Indonesia', 'name':...</td>\n",
       "      <td>halu</td>\n",
       "      <td></td>\n",
       "      <td>113.836655</td>\n",
       "      <td>-2.409401</td>\n",
       "    </tr>\n",
       "    <tr>\n",
       "      <th>85</th>\n",
       "      <td>1586204191453638656</td>\n",
       "      <td>{'fullName': 'East Borneo, Indonesia', 'name':...</td>\n",
       "      <td>penipuan ko semakin masif yasetiap hari ada aja</td>\n",
       "      <td></td>\n",
       "      <td>113.836655</td>\n",
       "      <td>-2.409401</td>\n",
       "    </tr>\n",
       "  </tbody>\n",
       "</table>\n",
       "</div>"
      ],
      "text/plain": [
       "                     id                                              place  \\\n",
       "72  1586266266284662784  {'fullName': 'Medan Petisah, Indonesia', 'name...   \n",
       "80  1586236330555514880  {'fullName': 'General Affair Sub Department ( ...   \n",
       "81  1586235315911462913  {'fullName': 'Adi Guna Group', 'name': 'Adi Gu...   \n",
       "83  1586207720436158465  {'fullName': 'East Borneo, Indonesia', 'name':...   \n",
       "85  1586204191453638656  {'fullName': 'East Borneo, Indonesia', 'name':...   \n",
       "\n",
       "                                               tweets sentiment   longitude  \\\n",
       "72  jagatio merupakan platforn dunia virtual perta...             98.644929   \n",
       "80  info  jagat nusantara tampilkan dunia virtual ...             95.329260   \n",
       "81  news  jagat nusantara tampilkan dunia virtual ...             95.344720   \n",
       "83                                               halu            113.836655   \n",
       "85    penipuan ko semakin masif yasetiap hari ada aja            113.836655   \n",
       "\n",
       "    latitude  \n",
       "72  3.601620  \n",
       "80  5.550990  \n",
       "81  5.549163  \n",
       "83 -2.409401  \n",
       "85 -2.409401  "
      ]
     },
     "execution_count": 52,
     "metadata": {},
     "output_type": "execute_result"
    }
   ],
   "source": [
    "# split coordinates into 2 columns: longitude and latitude and concat them back to the dataframe\n",
    "\n",
    "location_content_df[\"coordinates\"] = location_content_df[\"coordinates\"].apply(lambda x : dict(eval(x)))\n",
    "lon_lat_df = location_content_df[\"coordinates\"].apply(pd.Series)\n",
    "\n",
    "geolocation_content_df = pd.concat([location_content_df, lon_lat_df], axis=1).drop('coordinates', axis=1)\n",
    "geolocation_content_df.head()"
   ]
  },
  {
   "cell_type": "code",
   "execution_count": 53,
   "id": "34374a60-c8f5-488c-9c9c-ead872f90a4f",
   "metadata": {},
   "outputs": [
    {
     "data": {
      "text/plain": [
       "155"
      ]
     },
     "execution_count": 53,
     "metadata": {},
     "output_type": "execute_result"
    }
   ],
   "source": [
    "geolocation_content_df['place'].nunique()"
   ]
  },
  {
   "cell_type": "markdown",
   "id": "68519f75-005c-4377-af26-b6a02be8617b",
   "metadata": {},
   "source": [
    "**Observation:** \n",
    "There are 156 unique locations, next step is grouping tweets based on these locations."
   ]
  },
  {
   "cell_type": "code",
   "execution_count": 24,
   "id": "5cf45a50-6941-4bf8-8124-6f4867b96863",
   "metadata": {},
   "outputs": [
    {
     "data": {
      "text/html": [
       "<div>\n",
       "<style scoped>\n",
       "    .dataframe tbody tr th:only-of-type {\n",
       "        vertical-align: middle;\n",
       "    }\n",
       "\n",
       "    .dataframe tbody tr th {\n",
       "        vertical-align: top;\n",
       "    }\n",
       "\n",
       "    .dataframe thead th {\n",
       "        text-align: right;\n",
       "    }\n",
       "</style>\n",
       "<table border=\"1\" class=\"dataframe\">\n",
       "  <thead>\n",
       "    <tr style=\"text-align: right;\">\n",
       "      <th></th>\n",
       "      <th>index</th>\n",
       "      <th>place</th>\n",
       "    </tr>\n",
       "  </thead>\n",
       "  <tbody>\n",
       "    <tr>\n",
       "      <th>0</th>\n",
       "      <td>{'fullName': 'Central Borneo, Indonesia', 'nam...</td>\n",
       "      <td>57</td>\n",
       "    </tr>\n",
       "    <tr>\n",
       "      <th>1</th>\n",
       "      <td>{'fullName': 'East Borneo, Indonesia', 'name':...</td>\n",
       "      <td>24</td>\n",
       "    </tr>\n",
       "    <tr>\n",
       "      <th>2</th>\n",
       "      <td>{'fullName': 'East Nusa Tenggara, Indonesia', ...</td>\n",
       "      <td>15</td>\n",
       "    </tr>\n",
       "    <tr>\n",
       "      <th>3</th>\n",
       "      <td>{'fullName': 'Cipondoh, Indonesia', 'name': 'C...</td>\n",
       "      <td>14</td>\n",
       "    </tr>\n",
       "    <tr>\n",
       "      <th>4</th>\n",
       "      <td>{'fullName': 'Bali, Indonesia', 'name': 'Bali'...</td>\n",
       "      <td>13</td>\n",
       "    </tr>\n",
       "    <tr>\n",
       "      <th>...</th>\n",
       "      <td>...</td>\n",
       "      <td>...</td>\n",
       "    </tr>\n",
       "    <tr>\n",
       "      <th>150</th>\n",
       "      <td>{'fullName': 'Lempah Kuning Tebing Sampur', 'n...</td>\n",
       "      <td>1</td>\n",
       "    </tr>\n",
       "    <tr>\n",
       "      <th>151</th>\n",
       "      <td>{'fullName': 'Papua, Indonesia', 'name': 'Papu...</td>\n",
       "      <td>1</td>\n",
       "    </tr>\n",
       "    <tr>\n",
       "      <th>152</th>\n",
       "      <td>{'fullName': 'Adikara Motor', 'name': 'Adikara...</td>\n",
       "      <td>1</td>\n",
       "    </tr>\n",
       "    <tr>\n",
       "      <th>153</th>\n",
       "      <td>{'fullName': 'Oakwood Apartments PIK Jakarta',...</td>\n",
       "      <td>1</td>\n",
       "    </tr>\n",
       "    <tr>\n",
       "      <th>154</th>\n",
       "      <td>{'fullName': 'Kantor Kesehatan Pelabuhan Kelas...</td>\n",
       "      <td>1</td>\n",
       "    </tr>\n",
       "  </tbody>\n",
       "</table>\n",
       "<p>155 rows × 2 columns</p>\n",
       "</div>"
      ],
      "text/plain": [
       "                                                 index  place\n",
       "0    {'fullName': 'Central Borneo, Indonesia', 'nam...     57\n",
       "1    {'fullName': 'East Borneo, Indonesia', 'name':...     24\n",
       "2    {'fullName': 'East Nusa Tenggara, Indonesia', ...     15\n",
       "3    {'fullName': 'Cipondoh, Indonesia', 'name': 'C...     14\n",
       "4    {'fullName': 'Bali, Indonesia', 'name': 'Bali'...     13\n",
       "..                                                 ...    ...\n",
       "150  {'fullName': 'Lempah Kuning Tebing Sampur', 'n...      1\n",
       "151  {'fullName': 'Papua, Indonesia', 'name': 'Papu...      1\n",
       "152  {'fullName': 'Adikara Motor', 'name': 'Adikara...      1\n",
       "153  {'fullName': 'Oakwood Apartments PIK Jakarta',...      1\n",
       "154  {'fullName': 'Kantor Kesehatan Pelabuhan Kelas...      1\n",
       "\n",
       "[155 rows x 2 columns]"
      ]
     },
     "execution_count": 24,
     "metadata": {},
     "output_type": "execute_result"
    }
   ],
   "source": [
    "# count tweets by unique locations\n",
    "\n",
    "tweets_counting = geolocation_content_df[['place','tweets']]\n",
    "tweets_counting=pd.DataFrame(tweets_counting['place'].value_counts())\n",
    "tweets_counting.reset_index(inplace=True)\n",
    "tweets_counting"
   ]
  },
  {
   "cell_type": "markdown",
   "id": "70b51908-1048-4abf-98a9-28779dc37e99",
   "metadata": {},
   "source": [
    "**Observation:**\n",
    "Now I have 156 rows of geolocation tagged tweets with tweet counts, but column names are mixed-up. Next steps: (i) correct column names, (ii) extract the location name and plot tweet distribution by locations."
   ]
  },
  {
   "cell_type": "code",
   "execution_count": 25,
   "id": "ffeeaa56-981d-40c7-92f3-fe65863f275b",
   "metadata": {},
   "outputs": [
    {
     "data": {
      "text/html": [
       "<div>\n",
       "<style scoped>\n",
       "    .dataframe tbody tr th:only-of-type {\n",
       "        vertical-align: middle;\n",
       "    }\n",
       "\n",
       "    .dataframe tbody tr th {\n",
       "        vertical-align: top;\n",
       "    }\n",
       "\n",
       "    .dataframe thead th {\n",
       "        text-align: right;\n",
       "    }\n",
       "</style>\n",
       "<table border=\"1\" class=\"dataframe\">\n",
       "  <thead>\n",
       "    <tr style=\"text-align: right;\">\n",
       "      <th></th>\n",
       "      <th>location</th>\n",
       "      <th>tweet_counts</th>\n",
       "    </tr>\n",
       "  </thead>\n",
       "  <tbody>\n",
       "    <tr>\n",
       "      <th>0</th>\n",
       "      <td>{'fullName': 'Central Borneo, Indonesia', 'nam...</td>\n",
       "      <td>57</td>\n",
       "    </tr>\n",
       "    <tr>\n",
       "      <th>1</th>\n",
       "      <td>{'fullName': 'East Borneo, Indonesia', 'name':...</td>\n",
       "      <td>24</td>\n",
       "    </tr>\n",
       "    <tr>\n",
       "      <th>2</th>\n",
       "      <td>{'fullName': 'East Nusa Tenggara, Indonesia', ...</td>\n",
       "      <td>15</td>\n",
       "    </tr>\n",
       "    <tr>\n",
       "      <th>3</th>\n",
       "      <td>{'fullName': 'Cipondoh, Indonesia', 'name': 'C...</td>\n",
       "      <td>14</td>\n",
       "    </tr>\n",
       "    <tr>\n",
       "      <th>4</th>\n",
       "      <td>{'fullName': 'Bali, Indonesia', 'name': 'Bali'...</td>\n",
       "      <td>13</td>\n",
       "    </tr>\n",
       "    <tr>\n",
       "      <th>...</th>\n",
       "      <td>...</td>\n",
       "      <td>...</td>\n",
       "    </tr>\n",
       "    <tr>\n",
       "      <th>150</th>\n",
       "      <td>{'fullName': 'Lempah Kuning Tebing Sampur', 'n...</td>\n",
       "      <td>1</td>\n",
       "    </tr>\n",
       "    <tr>\n",
       "      <th>151</th>\n",
       "      <td>{'fullName': 'Papua, Indonesia', 'name': 'Papu...</td>\n",
       "      <td>1</td>\n",
       "    </tr>\n",
       "    <tr>\n",
       "      <th>152</th>\n",
       "      <td>{'fullName': 'Adikara Motor', 'name': 'Adikara...</td>\n",
       "      <td>1</td>\n",
       "    </tr>\n",
       "    <tr>\n",
       "      <th>153</th>\n",
       "      <td>{'fullName': 'Oakwood Apartments PIK Jakarta',...</td>\n",
       "      <td>1</td>\n",
       "    </tr>\n",
       "    <tr>\n",
       "      <th>154</th>\n",
       "      <td>{'fullName': 'Kantor Kesehatan Pelabuhan Kelas...</td>\n",
       "      <td>1</td>\n",
       "    </tr>\n",
       "  </tbody>\n",
       "</table>\n",
       "<p>155 rows × 2 columns</p>\n",
       "</div>"
      ],
      "text/plain": [
       "                                              location  tweet_counts\n",
       "0    {'fullName': 'Central Borneo, Indonesia', 'nam...            57\n",
       "1    {'fullName': 'East Borneo, Indonesia', 'name':...            24\n",
       "2    {'fullName': 'East Nusa Tenggara, Indonesia', ...            15\n",
       "3    {'fullName': 'Cipondoh, Indonesia', 'name': 'C...            14\n",
       "4    {'fullName': 'Bali, Indonesia', 'name': 'Bali'...            13\n",
       "..                                                 ...           ...\n",
       "150  {'fullName': 'Lempah Kuning Tebing Sampur', 'n...             1\n",
       "151  {'fullName': 'Papua, Indonesia', 'name': 'Papu...             1\n",
       "152  {'fullName': 'Adikara Motor', 'name': 'Adikara...             1\n",
       "153  {'fullName': 'Oakwood Apartments PIK Jakarta',...             1\n",
       "154  {'fullName': 'Kantor Kesehatan Pelabuhan Kelas...             1\n",
       "\n",
       "[155 rows x 2 columns]"
      ]
     },
     "execution_count": 25,
     "metadata": {},
     "output_type": "execute_result"
    }
   ],
   "source": [
    "# (i) re-assign column names so that they have correct descriptions\n",
    "\n",
    "tweets_counting['location']=tweets_counting['index']\n",
    "tweets_counting['tweet_counts']=tweets_counting['place']\n",
    "tweets_counting.drop(columns=['index','place'],inplace=True)\n",
    "tweets_counting"
   ]
  },
  {
   "cell_type": "code",
   "execution_count": 26,
   "id": "59ddd11f-68e8-4086-95e2-302a8a6d1eb5",
   "metadata": {},
   "outputs": [
    {
     "data": {
      "text/html": [
       "<div>\n",
       "<style scoped>\n",
       "    .dataframe tbody tr th:only-of-type {\n",
       "        vertical-align: middle;\n",
       "    }\n",
       "\n",
       "    .dataframe tbody tr th {\n",
       "        vertical-align: top;\n",
       "    }\n",
       "\n",
       "    .dataframe thead th {\n",
       "        text-align: right;\n",
       "    }\n",
       "</style>\n",
       "<table border=\"1\" class=\"dataframe\">\n",
       "  <thead>\n",
       "    <tr style=\"text-align: right;\">\n",
       "      <th></th>\n",
       "      <th>fullName</th>\n",
       "      <th>name</th>\n",
       "      <th>type</th>\n",
       "      <th>country</th>\n",
       "      <th>countryCode</th>\n",
       "    </tr>\n",
       "  </thead>\n",
       "  <tbody>\n",
       "    <tr>\n",
       "      <th>0</th>\n",
       "      <td>Central Borneo, Indonesia</td>\n",
       "      <td>Central Borneo</td>\n",
       "      <td>admin</td>\n",
       "      <td>Indonesia</td>\n",
       "      <td>ID</td>\n",
       "    </tr>\n",
       "    <tr>\n",
       "      <th>1</th>\n",
       "      <td>East Borneo, Indonesia</td>\n",
       "      <td>East Borneo</td>\n",
       "      <td>admin</td>\n",
       "      <td>Indonesia</td>\n",
       "      <td>ID</td>\n",
       "    </tr>\n",
       "    <tr>\n",
       "      <th>2</th>\n",
       "      <td>East Nusa Tenggara, Indonesia</td>\n",
       "      <td>East Nusa Tenggara</td>\n",
       "      <td>admin</td>\n",
       "      <td>Indonesia</td>\n",
       "      <td>ID</td>\n",
       "    </tr>\n",
       "    <tr>\n",
       "      <th>3</th>\n",
       "      <td>Cipondoh, Indonesia</td>\n",
       "      <td>Cipondoh</td>\n",
       "      <td>city</td>\n",
       "      <td>Indonesia</td>\n",
       "      <td>ID</td>\n",
       "    </tr>\n",
       "    <tr>\n",
       "      <th>4</th>\n",
       "      <td>Bali, Indonesia</td>\n",
       "      <td>Bali</td>\n",
       "      <td>admin</td>\n",
       "      <td>Indonesia</td>\n",
       "      <td>ID</td>\n",
       "    </tr>\n",
       "    <tr>\n",
       "      <th>...</th>\n",
       "      <td>...</td>\n",
       "      <td>...</td>\n",
       "      <td>...</td>\n",
       "      <td>...</td>\n",
       "      <td>...</td>\n",
       "    </tr>\n",
       "    <tr>\n",
       "      <th>150</th>\n",
       "      <td>Lempah Kuning Tebing Sampur</td>\n",
       "      <td>Lempah Kuning Tebing Sampur</td>\n",
       "      <td>poi</td>\n",
       "      <td>Indonesia</td>\n",
       "      <td>ID</td>\n",
       "    </tr>\n",
       "    <tr>\n",
       "      <th>151</th>\n",
       "      <td>Papua, Indonesia</td>\n",
       "      <td>Papua</td>\n",
       "      <td>admin</td>\n",
       "      <td>Indonesia</td>\n",
       "      <td>ID</td>\n",
       "    </tr>\n",
       "    <tr>\n",
       "      <th>152</th>\n",
       "      <td>Adikara Motor</td>\n",
       "      <td>Adikara Motor</td>\n",
       "      <td>poi</td>\n",
       "      <td>Indonesia</td>\n",
       "      <td>ID</td>\n",
       "    </tr>\n",
       "    <tr>\n",
       "      <th>153</th>\n",
       "      <td>Oakwood Apartments PIK Jakarta</td>\n",
       "      <td>Oakwood Apartments PIK Jakarta</td>\n",
       "      <td>poi</td>\n",
       "      <td>Indonesia</td>\n",
       "      <td>ID</td>\n",
       "    </tr>\n",
       "    <tr>\n",
       "      <th>154</th>\n",
       "      <td>Kantor Kesehatan Pelabuhan Kelas II Tarakan</td>\n",
       "      <td>Kantor Kesehatan Pelabuhan Kelas II Tarakan</td>\n",
       "      <td>poi</td>\n",
       "      <td>Indonesia</td>\n",
       "      <td>ID</td>\n",
       "    </tr>\n",
       "  </tbody>\n",
       "</table>\n",
       "<p>155 rows × 5 columns</p>\n",
       "</div>"
      ],
      "text/plain": [
       "                                        fullName  \\\n",
       "0                      Central Borneo, Indonesia   \n",
       "1                         East Borneo, Indonesia   \n",
       "2                  East Nusa Tenggara, Indonesia   \n",
       "3                            Cipondoh, Indonesia   \n",
       "4                                Bali, Indonesia   \n",
       "..                                           ...   \n",
       "150                  Lempah Kuning Tebing Sampur   \n",
       "151                             Papua, Indonesia   \n",
       "152                                Adikara Motor   \n",
       "153               Oakwood Apartments PIK Jakarta   \n",
       "154  Kantor Kesehatan Pelabuhan Kelas II Tarakan   \n",
       "\n",
       "                                            name   type    country countryCode  \n",
       "0                                 Central Borneo  admin  Indonesia          ID  \n",
       "1                                    East Borneo  admin  Indonesia          ID  \n",
       "2                             East Nusa Tenggara  admin  Indonesia          ID  \n",
       "3                                       Cipondoh   city  Indonesia          ID  \n",
       "4                                           Bali  admin  Indonesia          ID  \n",
       "..                                           ...    ...        ...         ...  \n",
       "150                  Lempah Kuning Tebing Sampur    poi  Indonesia          ID  \n",
       "151                                        Papua  admin  Indonesia          ID  \n",
       "152                                Adikara Motor    poi  Indonesia          ID  \n",
       "153               Oakwood Apartments PIK Jakarta    poi  Indonesia          ID  \n",
       "154  Kantor Kesehatan Pelabuhan Kelas II Tarakan    poi  Indonesia          ID  \n",
       "\n",
       "[155 rows x 5 columns]"
      ]
     },
     "execution_count": 26,
     "metadata": {},
     "output_type": "execute_result"
    }
   ],
   "source": [
    "# (ii) extract place name for tweet distribution plotting \n",
    "\n",
    "#establish a variable named place_col to contain the contents in 'place' column\n",
    "place_col=tweets_counting['location']\n",
    "\n",
    "# break the place contents into separate columns\n",
    "place = place_col.apply(lambda a : dict(eval(a)))\n",
    "place_df = place.apply(pd.Series)\n",
    "place_df"
   ]
  },
  {
   "cell_type": "code",
   "execution_count": 27,
   "id": "d081dad3-bbba-43ec-9a85-fa6bb46b71ac",
   "metadata": {},
   "outputs": [],
   "source": [
    "# Only keep location names and add them back into tweets counting dataframe\n",
    "tweets_counting['location']=place_df['name']\n",
    "\n",
    "# Extract top 50 locations\n",
    "tweets_counting_top = tweets_counting.head(50)"
   ]
  },
  {
   "cell_type": "code",
   "execution_count": 28,
   "id": "18862413-55d5-42f1-86bf-b6bf5af76e2f",
   "metadata": {},
   "outputs": [
    {
     "data": {
      "image/png": "[encoded data removed]",
      "text/plain": [
       "<Figure size 1500x500 with 1 Axes>"
      ]
     },
     "metadata": {},
     "output_type": "display_data"
    }
   ],
   "source": [
    "# plot tweet distribution by location\n",
    "\n",
    "plt.figure(figsize=(15,5))\n",
    "plt.bar(x='location',height='tweet_counts',data=tweets_counting_top)\n",
    "plt.title('Tweets distribution by locations')\n",
    "plt.xticks(rotation=90)\n",
    "plt.xlabel('Location')\n",
    "plt.ylabel('Number of tweets')\n",
    "plt.show()"
   ]
  },
  {
   "cell_type": "markdown",
   "id": "91b9b61c-514a-4777-ac39-0109e57408a9",
   "metadata": {},
   "source": [
    "**Observation:**\n",
    "Majority tweets come from Central and East Borneo, where the location of new capital is.Jakarta, where the current capital is, is surprisingly not in the top 50 location list."
   ]
  },
  {
   "cell_type": "markdown",
   "id": "d133d00a-7241-448f-ab99-c1411bc90b76",
   "metadata": {},
   "source": [
    "### EDA 2. Plotting sentiment distribution by time and geolocation"
   ]
  },
  {
   "cell_type": "markdown",
   "id": "c2d41e17-3664-4528-9c22-d109c5a6cfb3",
   "metadata": {},
   "source": [
    "#### Plotting counts of sentiments"
   ]
  },
  {
   "cell_type": "code",
   "execution_count": 3,
   "id": "6adeb6cd-84db-4762-a585-48f4df30ae79",
   "metadata": {},
   "outputs": [
    {
     "name": "stdout",
     "output_type": "stream",
     "text": [
      "<class 'pandas.core.frame.DataFrame'>\n",
      "RangeIndex: 8756 entries, 0 to 8755\n",
      "Data columns (total 5 columns):\n",
      " #   Column            Non-Null Count  Dtype  \n",
      "---  ------            --------------  -----  \n",
      " 0   id                8756 non-null   float64\n",
      " 1   date              8756 non-null   object \n",
      " 2   tweets            8756 non-null   object \n",
      " 3   processed_tweets  8706 non-null   object \n",
      " 4   label             8672 non-null   float64\n",
      "dtypes: float64(2), object(3)\n",
      "memory usage: 342.2+ KB\n"
     ]
    }
   ],
   "source": [
    "# import labeled data\n",
    "\n",
    "labeled_tweets_df =pd.read_csv('../data/labeled_tweets.csv')\n",
    "labeled_tweets_df.info()"
   ]
  },
  {
   "cell_type": "code",
   "execution_count": 4,
   "id": "f5a635bd-a9c6-4cb4-ba00-a0ddc732ffa4",
   "metadata": {},
   "outputs": [],
   "source": [
    "# drop null values and plot sentiment distribution\n",
    "\n",
    "labeled_tweets_df.dropna(inplace=True)"
   ]
  },
  {
   "cell_type": "code",
   "execution_count": null,
   "id": "7da07c0d-3929-4085-acff-068f28a2af5e",
   "metadata": {},
   "outputs": [],
   "source": [
    "# count sentiments\n",
    "\n",
    "sentiments=labeled_tweets_df.groupby(['label'])['processed_tweets'].count()"
   ]
  },
  {
   "cell_type": "code",
   "execution_count": 24,
   "id": "b90561e6-d108-425c-9449-fd91b71dccb0",
   "metadata": {},
   "outputs": [
    {
     "data": {
      "text/plain": [
       "label\n",
       "-1.0     303\n",
       " 0.0    6089\n",
       " 1.0    2230\n",
       "Name: processed_tweets, dtype: int64"
      ]
     },
     "execution_count": 24,
     "metadata": {},
     "output_type": "execute_result"
    }
   ],
   "source": [
    "sentiments"
   ]
  },
  {
   "cell_type": "code",
   "execution_count": 25,
   "id": "129c1519-ae01-4d94-99cf-e6b32c534ae5",
   "metadata": {},
   "outputs": [
    {
     "data": {
      "image/png": "[encoded data removed]",
      "text/plain": [
       "<Figure size 640x480 with 1 Axes>"
      ]
     },
     "metadata": {},
     "output_type": "display_data"
    }
   ],
   "source": [
    "# Plot sentiment counts\n",
    "\n",
    "sns.barplot(x=sentiments.index, y=sentiments.values)\n",
    "plt.title('Count of sentiments')\n",
    "plt.show()"
   ]
  },
  {
   "cell_type": "markdown",
   "id": "739c1e04-117c-4b0c-ba94-928203b71390",
   "metadata": {},
   "source": [
    "**Observation:**<br>\n",
    "Imbalanced data observed."
   ]
  },
  {
   "cell_type": "markdown",
   "id": "8df18704-f32c-4968-9110-9de9968a5de6",
   "metadata": {},
   "source": [
    "#### Plotting geolocation distribution of sentiments"
   ]
  },
  {
   "cell_type": "markdown",
   "id": "5788752e-8cce-48cd-bb48-4d5edb782de9",
   "metadata": {},
   "source": [
    "Geolocation distribution of sentiments and more EDAs are plotted on tableau dashboard, \n",
    "available on this [Link](https://public.tableau.com/app/profile/m.alexander8473/viz/capitalrelocationtwitteranalysis/presentation?publish=yes)"
   ]
  },
  {
   "cell_type": "markdown",
   "id": "ad3cbcdf-6b0e-4d94-8379-f4cbbb0dfb92",
   "metadata": {},
   "source": [
    "### Pre-processing for modeling: plot top words counts, demojize, tokenize and remove stopwords\n",
    "\n",
    "Stopwords and emojis are not removed on first cleaning (see EDA 1 above) to preserve tweet meanings for the purpose of human annotating. For the purpose of modeling, now second cleaning is conducted to demojize the tweets, and then tokenize and remove stopwords from them."
   ]
  },
  {
   "cell_type": "code",
   "execution_count": 32,
   "id": "fb9d461c-f74b-4478-a992-678565deeef3",
   "metadata": {},
   "outputs": [
    {
     "data": {
      "text/plain": [
       "758"
      ]
     },
     "execution_count": 32,
     "metadata": {},
     "output_type": "execute_result"
    }
   ],
   "source": [
    "# define indonesian stopwords using nltk and set language to indonesian\n",
    "\n",
    "indonesian_stopwords = stopwords.words('indonesian')\n",
    "len(indonesian_stopwords)"
   ]
  },
  {
   "cell_type": "markdown",
   "id": "9f594fd2-ffa1-4adb-9717-f8906fa6bbbe",
   "metadata": {},
   "source": [
    "#### Plotting top unigrams and bigrams using countvectorizer"
   ]
  },
  {
   "cell_type": "code",
   "execution_count": 33,
   "id": "d76dfe43-a272-48be-942f-fe63a6dc2716",
   "metadata": {},
   "outputs": [
    {
     "name": "stderr",
     "output_type": "stream",
     "text": [
      "C:\\mambo\\envs\\dsi-sg\\lib\\site-packages\\sklearn\\feature_extraction\\text.py:404: UserWarning: Your stop_words may be inconsistent with your preprocessing. Tokenizing the stop words generated tokens ['baiknya', 'berkali', 'kali', 'kurangnya', 'mata', 'olah', 'sekurang', 'setidak', 'tama', 'tidaknya'] not in stop_words.\n",
      "  warnings.warn(\n",
      "C:\\mambo\\envs\\dsi-sg\\lib\\site-packages\\sklearn\\utils\\deprecation.py:87: FutureWarning: Function get_feature_names is deprecated; get_feature_names is deprecated in 1.0 and will be removed in 1.2. Please use get_feature_names_out instead.\n",
      "  warnings.warn(msg, category=FutureWarning)\n"
     ]
    }
   ],
   "source": [
    "# use countvectorizer to check for most common words in corpus \n",
    "\n",
    "# Unigram countvectorizer\n",
    "cvec = CountVectorizer(stop_words = indonesian_stopwords, ngram_range=(1,1))\n",
    "tweets_cvec = pd.DataFrame(\n",
    "    cvec.fit_transform(dated_content_df['tweets']).todense(),\n",
    "    columns = cvec.get_feature_names())"
   ]
  },
  {
   "cell_type": "code",
   "execution_count": 34,
   "id": "6326de76-8035-4bb9-9f3c-c0c69d73f6b4",
   "metadata": {},
   "outputs": [
    {
     "data": {
      "text/plain": [
       "10218"
      ]
     },
     "execution_count": 34,
     "metadata": {},
     "output_type": "execute_result"
    }
   ],
   "source": [
    "# find number of unique words in the whole corpus\n",
    "len(tweets_cvec.columns)"
   ]
  },
  {
   "cell_type": "code",
   "execution_count": 35,
   "id": "6fe55fd3-82e4-4adc-8db5-4f4d7c540517",
   "metadata": {},
   "outputs": [],
   "source": [
    "# find top 20 words\n",
    "word_count = tweets_cvec.sum().sort_values(ascending=False)\n",
    "top20_words = word_count[:20]"
   ]
  },
  {
   "cell_type": "code",
   "execution_count": 36,
   "id": "ebc9eca1-978b-4224-b86b-3e833ec8fbaa",
   "metadata": {},
   "outputs": [
    {
     "data": {
      "image/png": "[encoded data removed]",
      "text/plain": [
       "<Figure size 640x480 with 1 Axes>"
      ]
     },
     "metadata": {},
     "output_type": "display_data"
    }
   ],
   "source": [
    "# plot top 20 words\n",
    "sns.barplot(x=top20_words.values, y=top20_words.index)\n",
    "plt.title('Top 20 unigrams in tweets')\n",
    "plt.show()"
   ]
  },
  {
   "cell_type": "code",
   "execution_count": 37,
   "id": "51f1ac2d-4cac-4e90-a414-a2680a804a02",
   "metadata": {},
   "outputs": [],
   "source": [
    "top_unigrams = pd.DataFrame(columns=['top_unigrams','counts'])\n",
    "top_unigrams['top_unigrams']=top20_words.index\n",
    "top_unigrams['counts']=top20_words.values"
   ]
  },
  {
   "cell_type": "code",
   "execution_count": 38,
   "id": "5de601d2-19fa-47a3-88e6-31fa4349d217",
   "metadata": {},
   "outputs": [
    {
     "name": "stderr",
     "output_type": "stream",
     "text": [
      "C:\\mambo\\envs\\dsi-sg\\lib\\site-packages\\sklearn\\feature_extraction\\text.py:404: UserWarning: Your stop_words may be inconsistent with your preprocessing. Tokenizing the stop words generated tokens ['baiknya', 'berkali', 'kali', 'kurangnya', 'mata', 'olah', 'sekurang', 'setidak', 'tama', 'tidaknya'] not in stop_words.\n",
      "  warnings.warn(\n",
      "C:\\mambo\\envs\\dsi-sg\\lib\\site-packages\\sklearn\\utils\\deprecation.py:87: FutureWarning: Function get_feature_names is deprecated; get_feature_names is deprecated in 1.0 and will be removed in 1.2. Please use get_feature_names_out instead.\n",
      "  warnings.warn(msg, category=FutureWarning)\n"
     ]
    }
   ],
   "source": [
    "# Bigram countvectorizer\n",
    "\n",
    "cvec_2 = CountVectorizer(stop_words = indonesian_stopwords, ngram_range=(2,2))\n",
    "tweets_cvec_2 = pd.DataFrame(\n",
    "    cvec_2.fit_transform(dated_content_df['tweets']).todense(),\n",
    "    columns = cvec_2.get_feature_names())"
   ]
  },
  {
   "cell_type": "code",
   "execution_count": 39,
   "id": "e3301fb0-27b4-4e61-af14-8568b8435f81",
   "metadata": {},
   "outputs": [
    {
     "name": "stdout",
     "output_type": "stream",
     "text": [
      "39771\n"
     ]
    }
   ],
   "source": [
    "# find number of unique bigram-words in the whole corpus\n",
    "print(len(tweets_cvec_2.columns))\n",
    "\n",
    "# find top 20 words\n",
    "word_count_2 = tweets_cvec_2.sum().sort_values(ascending=False)\n",
    "top20_words_2 = word_count_2[:20]"
   ]
  },
  {
   "cell_type": "code",
   "execution_count": 40,
   "id": "db35afd7-101d-420e-a8ad-59c7b4c1aa3b",
   "metadata": {},
   "outputs": [
    {
     "data": {
      "image/png": "[encoded data removed]",
      "text/plain": [
       "<Figure size 640x480 with 1 Axes>"
      ]
     },
     "metadata": {},
     "output_type": "display_data"
    }
   ],
   "source": [
    "# plot top 20 words\n",
    "sns.barplot(x=top20_words_2.values, y=top20_words_2.index)\n",
    "plt.title('Top 20 bigrams in tweets')\n",
    "plt.show()"
   ]
  },
  {
   "cell_type": "code",
   "execution_count": 108,
   "id": "dc5d887c-235c-4923-8912-e7829baf0c26",
   "metadata": {},
   "outputs": [],
   "source": [
    "top_bigrams = pd.DataFrame(columns=['top_bigrams','counts'])\n",
    "top_bigrams['top_bigrams']=top20_words_2.index\n",
    "top_bigrams['counts']=top20_words_2.values"
   ]
  },
  {
   "cell_type": "markdown",
   "id": "a2e04f0f-57ca-40b1-94af-1f4817552d26",
   "metadata": {},
   "source": [
    "#### Demojize and stop word removal"
   ]
  },
  {
   "cell_type": "code",
   "execution_count": 25,
   "id": "3026b462-8645-4a1e-ac21-390d668bb4d6",
   "metadata": {},
   "outputs": [
    {
     "data": {
      "text/plain": [
       "0       sensasi berada di ibu kota nusantara gimana ya...\n",
       "1       dengan metaverse bernama jagat nusantara anda ...\n",
       "2       metaversa memberikan sensasi berada di ibu kot...\n",
       "3       meski pembangunan ikn baru tahap awal melalui ...\n",
       "4       meskipun pembangunan ikn baru tahap awalnamun ...\n",
       "                              ...                        \n",
       "8751    kepala bin intelligent city di ibu kota negara...\n",
       "8752    sejarah nusantara yang jadi nama ibu kota baru...\n",
       "8753              pintu gerbang ibu kota negara nusantara\n",
       "8754    kerja dengan berbagai pihak dilakukan guna mem...\n",
       "8755    kabar gembira bagi asn yang akan pindah ke ibu...\n",
       "Name: tweets, Length: 8756, dtype: object"
      ]
     },
     "execution_count": 25,
     "metadata": {},
     "output_type": "execute_result"
    }
   ],
   "source": [
    "# remove emojis \n",
    "dated_content_df['tweets']=dated_content_df['tweets'].str.replace(r'[^\\x00-\\x7F]+', '', regex=True)\n",
    "dated_content_df['tweets']"
   ]
  },
  {
   "cell_type": "code",
   "execution_count": 110,
   "id": "fafd05db-117d-452d-a5cf-072c092bf5c8",
   "metadata": {},
   "outputs": [],
   "source": [
    "# define a function to clean text data\n",
    "def preprocessing(tweet):\n",
    " # define indonesian stopwords:\n",
    "    sw = indonesian_stopwords\n",
    " # define topic specific stopwords:  \n",
    "    add_stop_words = additional_stopwords\n",
    " # combine both stopwords lists\n",
    "    stop_list = sw+add_stop_words \n",
    "    \n",
    "    text = str(tweet)\n",
    "    if text in stop_list:\n",
    "        return None\n",
    "    else:\n",
    "        return text"
   ]
  },
  {
   "cell_type": "code",
   "execution_count": 112,
   "id": "1f169c29-2c18-4758-8812-f5b9b3e74a52",
   "metadata": {},
   "outputs": [],
   "source": [
    "# Now, to apply this cleaning function to the text\n",
    "# define the text:\n",
    "texts = dated_content_df['tweets']\n",
    "# split the texts into individual strings:\n",
    "texts_ls = []\n",
    "for text in texts:\n",
    "    texts_ls.append(text.split(\" \"))       "
   ]
  },
  {
   "cell_type": "code",
   "execution_count": 113,
   "id": "65b5beb5-92a1-4e03-be0e-446d50e6bb18",
   "metadata": {},
   "outputs": [],
   "source": [
    "# loop through texts list to apply the cleaning function and store the results:\n",
    "text_clean=[]\n",
    "for text in texts_ls:\n",
    "    clean = []\n",
    "    for t in text:\n",
    "        clean.append(preprocessing(t))\n",
    "    text_clean.append(clean)"
   ]
  },
  {
   "cell_type": "code",
   "execution_count": 115,
   "id": "a6392ff7-76b3-4553-9454-868352b2e3ca",
   "metadata": {},
   "outputs": [],
   "source": [
    "# loop through text clean to remove None values\n",
    "final_text=[]\n",
    "for tx in text_clean:\n",
    "    b=[i for i in tx if i is not None]\n",
    "    final_text.append(b)"
   ]
  },
  {
   "cell_type": "code",
   "execution_count": 117,
   "id": "6cc45ec3-cbf1-47c3-a8fe-4c2636f1c20a",
   "metadata": {},
   "outputs": [],
   "source": [
    "# join them back\n",
    "final_list=[]\n",
    "for f in final_text:\n",
    "    g= ' '.join(map(str, f))\n",
    "    final_list.append(g)"
   ]
  },
  {
   "cell_type": "code",
   "execution_count": 118,
   "id": "91b9644d-644a-4086-b22e-685e8e1851ef",
   "metadata": {},
   "outputs": [
    {
     "data": {
      "text/plain": [
       "['sensasi gimana ya',\n",
       " 'metaverse bernama jagat merasakan sensasi',\n",
       " 'metaversa sensasi bernama jagat',\n",
       " 'tahap metaverse bernama jagat merasakan sensasi',\n",
       " 'tahap awalnamun merasakan sensasi metaverse bernama jagat']"
      ]
     },
     "execution_count": 118,
     "metadata": {},
     "output_type": "execute_result"
    }
   ],
   "source": [
    "final_list[:5]"
   ]
  },
  {
   "cell_type": "code",
   "execution_count": 119,
   "id": "dc539ecc-aad2-4249-9628-5cdf2f47ac00",
   "metadata": {},
   "outputs": [],
   "source": [
    "dated_content_df['processed_tweets'] = final_list"
   ]
  },
  {
   "cell_type": "code",
   "execution_count": 120,
   "id": "0c014121-f6a5-4eba-9d3b-8f91f09c33be",
   "metadata": {},
   "outputs": [
    {
     "data": {
      "text/html": [
       "<div>\n",
       "<style scoped>\n",
       "    .dataframe tbody tr th:only-of-type {\n",
       "        vertical-align: middle;\n",
       "    }\n",
       "\n",
       "    .dataframe tbody tr th {\n",
       "        vertical-align: top;\n",
       "    }\n",
       "\n",
       "    .dataframe thead th {\n",
       "        text-align: right;\n",
       "    }\n",
       "</style>\n",
       "<table border=\"1\" class=\"dataframe\">\n",
       "  <thead>\n",
       "    <tr style=\"text-align: right;\">\n",
       "      <th></th>\n",
       "      <th>id</th>\n",
       "      <th>tweets</th>\n",
       "      <th>sentiment</th>\n",
       "      <th>processed_tweets</th>\n",
       "    </tr>\n",
       "    <tr>\n",
       "      <th>date</th>\n",
       "      <th></th>\n",
       "      <th></th>\n",
       "      <th></th>\n",
       "      <th></th>\n",
       "    </tr>\n",
       "  </thead>\n",
       "  <tbody>\n",
       "    <tr>\n",
       "      <th>2022-10-30</th>\n",
       "      <td>1586855500200939520</td>\n",
       "      <td>sensasi berada di ibu kota nusantara gimana ya...</td>\n",
       "      <td></td>\n",
       "      <td>sensasi gimana ya</td>\n",
       "    </tr>\n",
       "    <tr>\n",
       "      <th>2022-10-30</th>\n",
       "      <td>1586855495477841920</td>\n",
       "      <td>dengan metaverse bernama jagat nusantara anda ...</td>\n",
       "      <td></td>\n",
       "      <td>metaverse bernama jagat merasakan sensasi</td>\n",
       "    </tr>\n",
       "    <tr>\n",
       "      <th>2022-10-30</th>\n",
       "      <td>1586855476364341249</td>\n",
       "      <td>metaversa memberikan sensasi berada di ibu kot...</td>\n",
       "      <td></td>\n",
       "      <td>metaversa sensasi bernama jagat</td>\n",
       "    </tr>\n",
       "    <tr>\n",
       "      <th>2022-10-30</th>\n",
       "      <td>1586855472602259457</td>\n",
       "      <td>meski pembangunan ikn baru tahap awal melalui ...</td>\n",
       "      <td></td>\n",
       "      <td>tahap metaverse bernama jagat merasakan sensasi</td>\n",
       "    </tr>\n",
       "    <tr>\n",
       "      <th>2022-10-30</th>\n",
       "      <td>1586855472124108801</td>\n",
       "      <td>meskipun pembangunan ikn baru tahap awalnamun ...</td>\n",
       "      <td></td>\n",
       "      <td>tahap awalnamun merasakan sensasi metaverse be...</td>\n",
       "    </tr>\n",
       "  </tbody>\n",
       "</table>\n",
       "</div>"
      ],
      "text/plain": [
       "                             id  \\\n",
       "date                              \n",
       "2022-10-30  1586855500200939520   \n",
       "2022-10-30  1586855495477841920   \n",
       "2022-10-30  1586855476364341249   \n",
       "2022-10-30  1586855472602259457   \n",
       "2022-10-30  1586855472124108801   \n",
       "\n",
       "                                                       tweets sentiment  \\\n",
       "date                                                                      \n",
       "2022-10-30  sensasi berada di ibu kota nusantara gimana ya...             \n",
       "2022-10-30  dengan metaverse bernama jagat nusantara anda ...             \n",
       "2022-10-30  metaversa memberikan sensasi berada di ibu kot...             \n",
       "2022-10-30  meski pembangunan ikn baru tahap awal melalui ...             \n",
       "2022-10-30  meskipun pembangunan ikn baru tahap awalnamun ...             \n",
       "\n",
       "                                             processed_tweets  \n",
       "date                                                           \n",
       "2022-10-30                                  sensasi gimana ya  \n",
       "2022-10-30          metaverse bernama jagat merasakan sensasi  \n",
       "2022-10-30                    metaversa sensasi bernama jagat  \n",
       "2022-10-30    tahap metaverse bernama jagat merasakan sensasi  \n",
       "2022-10-30  tahap awalnamun merasakan sensasi metaverse be...  "
      ]
     },
     "execution_count": 120,
     "metadata": {},
     "output_type": "execute_result"
    }
   ],
   "source": [
    "dated_content_df.head()"
   ]
  },
  {
   "cell_type": "code",
   "execution_count": 55,
   "id": "1714d05e-02c0-4919-aaa0-be526c48a61e",
   "metadata": {},
   "outputs": [],
   "source": [
    "# export data to csv\n",
    "\n",
    "dated_content_df.to_csv('../data/dated_processed_tweets.csv')\n",
    "geolocation_content_df.to_csv('../data/geography.csv', index=False)\n",
    "tweets_counting_top.to_csv('../data/tweets_counting.csv',index=False)"
   ]
  },
  {
   "cell_type": "markdown",
   "id": "1bfe146e-1fd3-42de-826d-16e8181310dd",
   "metadata": {},
   "source": [
    "#### Continuing to notebook 3 for modeling"
   ]
  }
 ],
 "metadata": {
  "kernelspec": {
   "display_name": "Python 3 (ipykernel)",
   "language": "python",
   "name": "python3"
  },
  "language_info": {
   "codemirror_mode": {
    "name": "ipython",
    "version": 3
   },
   "file_extension": ".py",
   "mimetype": "text/x-python",
   "name": "python",
   "nbconvert_exporter": "python",
   "pygments_lexer": "ipython3",
   "version": "3.8.13"
  }
 },
 "nbformat": 4,
 "nbformat_minor": 5
}
