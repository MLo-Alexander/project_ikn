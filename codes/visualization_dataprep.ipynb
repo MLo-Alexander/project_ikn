{
 "cells": [
  {
   "cell_type": "markdown",
   "id": "88bdab61-7997-4661-8ffa-37601341d03f",
   "metadata": {},
   "source": [
    "## CAPSTONE PROJECT: TWITTER SENTIMENT ANALYSIS ON INDONESIAN CAPITAL RELOCATION PLAN"
   ]
  },
  {
   "cell_type": "markdown",
   "id": "f16329a2-b5c2-4cd2-b744-e126b033685d",
   "metadata": {},
   "source": [
    "### This is a data preparation notebook"
   ]
  },
  {
   "cell_type": "markdown",
   "id": "972b5e81-d50c-4d0f-9ade-8510e5f7e4a6",
   "metadata": {},
   "source": [
    "This Notebook has 2 parts:<br>\n",
    "- Part 1: Data preparation for network visualization on Gephi\n",
    "- Part 2: Data preparation for Tableau dashboard presentation"
   ]
  },
  {
   "cell_type": "markdown",
   "id": "35f91c9b-9a95-46d9-a365-90d1dc6e306a",
   "metadata": {},
   "source": [
    "### Import libraries and modules"
   ]
  },
  {
   "cell_type": "code",
   "execution_count": 1,
   "id": "95f88a05-68d8-4021-862a-87e0d588b9d3",
   "metadata": {},
   "outputs": [],
   "source": [
    "import pandas as pd\n",
    "import numpy as np"
   ]
  },
  {
   "cell_type": "markdown",
   "id": "77b4048d-a4ca-4a83-a54f-916b1814f298",
   "metadata": {},
   "source": [
    "### Import data and inspect"
   ]
  },
  {
   "cell_type": "code",
   "execution_count": 5,
   "id": "d326ff17-1217-4570-8558-5c9e6afcfa08",
   "metadata": {},
   "outputs": [],
   "source": [
    "# import raw data\n",
    "\n",
    "unprocessed = pd.read_csv('../data/nusantara.csv')"
   ]
  },
  {
   "cell_type": "code",
   "execution_count": 6,
   "id": "340f5445-2900-429d-bbd8-417fc0ce0fb5",
   "metadata": {},
   "outputs": [
    {
     "name": "stdout",
     "output_type": "stream",
     "text": [
      "<class 'pandas.core.frame.DataFrame'>\n",
      "RangeIndex: 12000 entries, 0 to 11999\n",
      "Data columns (total 27 columns):\n",
      " #   Column            Non-Null Count  Dtype  \n",
      "---  ------            --------------  -----  \n",
      " 0   url               12000 non-null  object \n",
      " 1   date              12000 non-null  object \n",
      " 2   content           12000 non-null  object \n",
      " 3   renderedContent   12000 non-null  object \n",
      " 4   id                12000 non-null  int64  \n",
      " 5   user              12000 non-null  object \n",
      " 6   replyCount        12000 non-null  int64  \n",
      " 7   retweetCount      12000 non-null  int64  \n",
      " 8   likeCount         12000 non-null  int64  \n",
      " 9   quoteCount        12000 non-null  int64  \n",
      " 10  conversationId    12000 non-null  int64  \n",
      " 11  lang              12000 non-null  object \n",
      " 12  source            12000 non-null  object \n",
      " 13  sourceUrl         12000 non-null  object \n",
      " 14  sourceLabel       12000 non-null  object \n",
      " 15  outlinks          4546 non-null   object \n",
      " 16  tcooutlinks       4546 non-null   object \n",
      " 17  media             6580 non-null   object \n",
      " 18  retweetedTweet    0 non-null      float64\n",
      " 19  quotedTweet       264 non-null    object \n",
      " 20  inReplyToTweetId  2360 non-null   float64\n",
      " 21  inReplyToUser     2360 non-null   object \n",
      " 22  mentionedUsers    3096 non-null   object \n",
      " 23  coordinates       622 non-null    object \n",
      " 24  place             622 non-null    object \n",
      " 25  hashtags          4426 non-null   object \n",
      " 26  cashtags          2 non-null      object \n",
      "dtypes: float64(2), int64(6), object(19)\n",
      "memory usage: 2.5+ MB\n"
     ]
    }
   ],
   "source": [
    "unprocessed.info()"
   ]
  },
  {
   "cell_type": "code",
   "execution_count": null,
   "id": "69d6fa84-1d18-4b2e-a2b9-71bdaa0b1e13",
   "metadata": {},
   "outputs": [],
   "source": [
    "# filter out data with reply information\n",
    "\n",
    "# network = network.loc[network['inReplyToUser'].notnull(),:]"
   ]
  },
  {
   "cell_type": "code",
   "execution_count": null,
   "id": "b01a478e-ef85-422c-95e0-99bc7b92e020",
   "metadata": {},
   "outputs": [],
   "source": [
    "# save file to csv for future use (this notebook was worked on on different days, so I exported the data first to be worked on the next day)\n",
    "\n",
    "# network.to_csv('./data/network_gep.csv',index=False)"
   ]
  },
  {
   "cell_type": "markdown",
   "id": "fcf09cba-f0b6-4245-aff8-bb3ab767dbe4",
   "metadata": {},
   "source": [
    "#### Part 1: Data prep for Gephi\n",
    "In this part, the goal is to produce 2 dataframes which are nodes and edges. They need to have source and target columns as minmal requirements."
   ]
  },
  {
   "cell_type": "code",
   "execution_count": 6,
   "id": "97f1691e-2b63-4e08-a928-d255e56369ac",
   "metadata": {},
   "outputs": [
    {
     "name": "stdout",
     "output_type": "stream",
     "text": [
      "<class 'pandas.core.frame.DataFrame'>\n",
      "RangeIndex: 2360 entries, 0 to 2359\n",
      "Columns: 113 entries, user_id to Unnamed: 112\n",
      "dtypes: float64(75), object(38)\n",
      "memory usage: 2.0+ MB\n"
     ]
    }
   ],
   "source": [
    "# import network data\n",
    "\n",
    "network=pd.read_csv('../data/network_gep.csv')\n",
    "network.info()"
   ]
  },
  {
   "cell_type": "code",
   "execution_count": 9,
   "id": "7adc5a6b-094d-4eea-9dbc-969f2f3ecb80",
   "metadata": {},
   "outputs": [
    {
     "data": {
      "text/plain": [
       "Index(['user_id', 'user_name', 'Unnamed: 2', 'reply_name', 'Unnamed: 4',\n",
       "       'Unnamed: 5', 'Unnamed: 6', 'Unnamed: 7', 'Unnamed: 8', 'Unnamed: 9',\n",
       "       ...\n",
       "       'Unnamed: 103', 'Unnamed: 104', 'Unnamed: 105', 'Unnamed: 106',\n",
       "       'Unnamed: 107', 'Unnamed: 108', 'Unnamed: 109', 'Unnamed: 110',\n",
       "       'Unnamed: 111', 'Unnamed: 112'],\n",
       "      dtype='object', length=113)"
      ]
     },
     "execution_count": 9,
     "metadata": {},
     "output_type": "execute_result"
    }
   ],
   "source": [
    "network.columns"
   ]
  },
  {
   "cell_type": "code",
   "execution_count": 10,
   "id": "63900bfb-cf83-46a6-8f8b-c012b0001db3",
   "metadata": {},
   "outputs": [],
   "source": [
    "network=network[['user_id','user_name','Unnamed: 2','reply_name']]"
   ]
  },
  {
   "cell_type": "code",
   "execution_count": 14,
   "id": "f0cf23f6-3ee7-462c-b7c6-6a5cc9bb4bff",
   "metadata": {},
   "outputs": [
    {
     "name": "stderr",
     "output_type": "stream",
     "text": [
      "C:\\mambo\\envs\\dsi-sg-37\\lib\\site-packages\\ipykernel_launcher.py:1: SettingWithCopyWarning: \n",
      "A value is trying to be set on a copy of a slice from a DataFrame.\n",
      "Try using .loc[row_indexer,col_indexer] = value instead\n",
      "\n",
      "See the caveats in the documentation: https://pandas.pydata.org/pandas-docs/stable/user_guide/indexing.html#returning-a-view-versus-a-copy\n",
      "  \"\"\"Entry point for launching an IPython kernel.\n"
     ]
    }
   ],
   "source": [
    "# establish source column\n",
    "\n",
    "network['source']=network['user_id']"
   ]
  },
  {
   "cell_type": "code",
   "execution_count": 16,
   "id": "ce7cabbc-f919-4632-b0e3-02e5d7541312",
   "metadata": {},
   "outputs": [
    {
     "name": "stderr",
     "output_type": "stream",
     "text": [
      "C:\\mambo\\envs\\dsi-sg-37\\lib\\site-packages\\ipykernel_launcher.py:1: SettingWithCopyWarning: \n",
      "A value is trying to be set on a copy of a slice from a DataFrame.\n",
      "Try using .loc[row_indexer,col_indexer] = value instead\n",
      "\n",
      "See the caveats in the documentation: https://pandas.pydata.org/pandas-docs/stable/user_guide/indexing.html#returning-a-view-versus-a-copy\n",
      "  \"\"\"Entry point for launching an IPython kernel.\n"
     ]
    },
    {
     "data": {
      "text/html": [
       "<div>\n",
       "<style scoped>\n",
       "    .dataframe tbody tr th:only-of-type {\n",
       "        vertical-align: middle;\n",
       "    }\n",
       "\n",
       "    .dataframe tbody tr th {\n",
       "        vertical-align: top;\n",
       "    }\n",
       "\n",
       "    .dataframe thead th {\n",
       "        text-align: right;\n",
       "    }\n",
       "</style>\n",
       "<table border=\"1\" class=\"dataframe\">\n",
       "  <thead>\n",
       "    <tr style=\"text-align: right;\">\n",
       "      <th></th>\n",
       "      <th>user_id</th>\n",
       "      <th>user_name</th>\n",
       "      <th>Unnamed: 2</th>\n",
       "      <th>reply_name</th>\n",
       "      <th>source</th>\n",
       "      <th>target</th>\n",
       "    </tr>\n",
       "  </thead>\n",
       "  <tbody>\n",
       "    <tr>\n",
       "      <th>0</th>\n",
       "      <td>1.035870e+18</td>\n",
       "      <td>'hyacinthyou_',</td>\n",
       "      <td>1.035870e+18</td>\n",
       "      <td>'hyacinthyou_'</td>\n",
       "      <td>1.035870e+18</td>\n",
       "      <td>1.035870e+18</td>\n",
       "    </tr>\n",
       "    <tr>\n",
       "      <th>1</th>\n",
       "      <td>1.582990e+18</td>\n",
       "      <td>'alparezi11',</td>\n",
       "      <td>3.772331e+08</td>\n",
       "      <td>'AbdinegaraSetia'</td>\n",
       "      <td>1.582990e+18</td>\n",
       "      <td>3.772331e+08</td>\n",
       "    </tr>\n",
       "    <tr>\n",
       "      <th>2</th>\n",
       "      <td>1.310290e+18</td>\n",
       "      <td>'Penjagajokowi1',</td>\n",
       "      <td>1.310290e+18</td>\n",
       "      <td>'Penjagajokowi1'</td>\n",
       "      <td>1.310290e+18</td>\n",
       "      <td>1.310290e+18</td>\n",
       "    </tr>\n",
       "    <tr>\n",
       "      <th>3</th>\n",
       "      <td>1.310290e+18</td>\n",
       "      <td>'Penjagajokowi1',</td>\n",
       "      <td>1.310290e+18</td>\n",
       "      <td>'Penjagajokowi1'</td>\n",
       "      <td>1.310290e+18</td>\n",
       "      <td>1.310290e+18</td>\n",
       "    </tr>\n",
       "    <tr>\n",
       "      <th>4</th>\n",
       "      <td>1.310290e+18</td>\n",
       "      <td>'Penjagajokowi1',</td>\n",
       "      <td>1.310290e+18</td>\n",
       "      <td>'Penjagajokowi1'</td>\n",
       "      <td>1.310290e+18</td>\n",
       "      <td>1.310290e+18</td>\n",
       "    </tr>\n",
       "  </tbody>\n",
       "</table>\n",
       "</div>"
      ],
      "text/plain": [
       "        user_id          user_name    Unnamed: 2         reply_name  \\\n",
       "0  1.035870e+18    'hyacinthyou_',  1.035870e+18     'hyacinthyou_'   \n",
       "1  1.582990e+18      'alparezi11',  3.772331e+08  'AbdinegaraSetia'   \n",
       "2  1.310290e+18  'Penjagajokowi1',  1.310290e+18   'Penjagajokowi1'   \n",
       "3  1.310290e+18  'Penjagajokowi1',  1.310290e+18   'Penjagajokowi1'   \n",
       "4  1.310290e+18  'Penjagajokowi1',  1.310290e+18   'Penjagajokowi1'   \n",
       "\n",
       "         source        target  \n",
       "0  1.035870e+18  1.035870e+18  \n",
       "1  1.582990e+18  3.772331e+08  \n",
       "2  1.310290e+18  1.310290e+18  \n",
       "3  1.310290e+18  1.310290e+18  \n",
       "4  1.310290e+18  1.310290e+18  "
      ]
     },
     "execution_count": 16,
     "metadata": {},
     "output_type": "execute_result"
    }
   ],
   "source": [
    "# establish target column\n",
    "\n",
    "network['target']=network['Unnamed: 2']\n",
    "network.head()"
   ]
  },
  {
   "cell_type": "code",
   "execution_count": 17,
   "id": "cd5efc75-3495-46a9-8d7b-f6962c88c51b",
   "metadata": {},
   "outputs": [
    {
     "name": "stderr",
     "output_type": "stream",
     "text": [
      "C:\\mambo\\envs\\dsi-sg-37\\lib\\site-packages\\ipykernel_launcher.py:1: SettingWithCopyWarning: \n",
      "A value is trying to be set on a copy of a slice from a DataFrame.\n",
      "Try using .loc[row_indexer,col_indexer] = value instead\n",
      "\n",
      "See the caveats in the documentation: https://pandas.pydata.org/pandas-docs/stable/user_guide/indexing.html#returning-a-view-versus-a-copy\n",
      "  \"\"\"Entry point for launching an IPython kernel.\n",
      "C:\\mambo\\envs\\dsi-sg-37\\lib\\site-packages\\ipykernel_launcher.py:2: SettingWithCopyWarning: \n",
      "A value is trying to be set on a copy of a slice from a DataFrame.\n",
      "Try using .loc[row_indexer,col_indexer] = value instead\n",
      "\n",
      "See the caveats in the documentation: https://pandas.pydata.org/pandas-docs/stable/user_guide/indexing.html#returning-a-view-versus-a-copy\n",
      "  \n",
      "C:\\mambo\\envs\\dsi-sg-37\\lib\\site-packages\\pandas\\core\\frame.py:4913: SettingWithCopyWarning: \n",
      "A value is trying to be set on a copy of a slice from a DataFrame\n",
      "\n",
      "See the caveats in the documentation: https://pandas.pydata.org/pandas-docs/stable/user_guide/indexing.html#returning-a-view-versus-a-copy\n",
      "  errors=errors,\n"
     ]
    }
   ],
   "source": [
    "# curate the columns as: source, target, source name, target name\n",
    "\n",
    "network['source_name']=network['user_name']\n",
    "network['target_name']=network['reply_name']\n",
    "network.drop(columns=['user_id','user_name','Unnamed: 2','reply_name'],inplace=True)"
   ]
  },
  {
   "cell_type": "code",
   "execution_count": 20,
   "id": "f3da4252-af30-4338-9f6c-9cbe11982336",
   "metadata": {},
   "outputs": [
    {
     "data": {
      "text/html": [
       "<div>\n",
       "<style scoped>\n",
       "    .dataframe tbody tr th:only-of-type {\n",
       "        vertical-align: middle;\n",
       "    }\n",
       "\n",
       "    .dataframe tbody tr th {\n",
       "        vertical-align: top;\n",
       "    }\n",
       "\n",
       "    .dataframe thead th {\n",
       "        text-align: right;\n",
       "    }\n",
       "</style>\n",
       "<table border=\"1\" class=\"dataframe\">\n",
       "  <thead>\n",
       "    <tr style=\"text-align: right;\">\n",
       "      <th></th>\n",
       "      <th>source</th>\n",
       "      <th>target</th>\n",
       "      <th>source_name</th>\n",
       "      <th>target_name</th>\n",
       "    </tr>\n",
       "  </thead>\n",
       "  <tbody>\n",
       "    <tr>\n",
       "      <th>0</th>\n",
       "      <td>1.035870e+18</td>\n",
       "      <td>1.035870e+18</td>\n",
       "      <td>'hyacinthyou_',</td>\n",
       "      <td>'hyacinthyou_'</td>\n",
       "    </tr>\n",
       "    <tr>\n",
       "      <th>1</th>\n",
       "      <td>1.582990e+18</td>\n",
       "      <td>3.772331e+08</td>\n",
       "      <td>'alparezi11',</td>\n",
       "      <td>'AbdinegaraSetia'</td>\n",
       "    </tr>\n",
       "    <tr>\n",
       "      <th>2</th>\n",
       "      <td>1.310290e+18</td>\n",
       "      <td>1.310290e+18</td>\n",
       "      <td>'Penjagajokowi1',</td>\n",
       "      <td>'Penjagajokowi1'</td>\n",
       "    </tr>\n",
       "    <tr>\n",
       "      <th>3</th>\n",
       "      <td>1.310290e+18</td>\n",
       "      <td>1.310290e+18</td>\n",
       "      <td>'Penjagajokowi1',</td>\n",
       "      <td>'Penjagajokowi1'</td>\n",
       "    </tr>\n",
       "    <tr>\n",
       "      <th>4</th>\n",
       "      <td>1.310290e+18</td>\n",
       "      <td>1.310290e+18</td>\n",
       "      <td>'Penjagajokowi1',</td>\n",
       "      <td>'Penjagajokowi1'</td>\n",
       "    </tr>\n",
       "  </tbody>\n",
       "</table>\n",
       "</div>"
      ],
      "text/plain": [
       "         source        target        source_name        target_name\n",
       "0  1.035870e+18  1.035870e+18    'hyacinthyou_',     'hyacinthyou_'\n",
       "1  1.582990e+18  3.772331e+08      'alparezi11',  'AbdinegaraSetia'\n",
       "2  1.310290e+18  1.310290e+18  'Penjagajokowi1',   'Penjagajokowi1'\n",
       "3  1.310290e+18  1.310290e+18  'Penjagajokowi1',   'Penjagajokowi1'\n",
       "4  1.310290e+18  1.310290e+18  'Penjagajokowi1',   'Penjagajokowi1'"
      ]
     },
     "execution_count": 20,
     "metadata": {},
     "output_type": "execute_result"
    }
   ],
   "source": [
    "network.head()"
   ]
  },
  {
   "cell_type": "code",
   "execution_count": 19,
   "id": "ea04942f-0cc3-406d-9e2b-b89976b0432c",
   "metadata": {},
   "outputs": [],
   "source": [
    "# remove commas from names:\n",
    "\n",
    "new_name=[]\n",
    "for i in network['source_name']:\n",
    "    new_name.append(str(i).rstrip(','))\n",
    "    "
   ]
  },
  {
   "cell_type": "code",
   "execution_count": 27,
   "id": "b0416502-efb1-4bdc-a996-f7ea0a71d10a",
   "metadata": {},
   "outputs": [],
   "source": [
    "# remove quotation marks from source names:\n",
    "\n",
    "newer_name=[]\n",
    "for i in new_name:\n",
    "    newer_name.append(str(i).strip(\"\\'\"))\n",
    "    "
   ]
  },
  {
   "cell_type": "code",
   "execution_count": 29,
   "id": "c436acb5-a752-4149-9f2c-848376d79438",
   "metadata": {},
   "outputs": [
    {
     "name": "stderr",
     "output_type": "stream",
     "text": [
      "C:\\mambo\\envs\\dsi-sg-37\\lib\\site-packages\\ipykernel_launcher.py:1: SettingWithCopyWarning: \n",
      "A value is trying to be set on a copy of a slice from a DataFrame.\n",
      "Try using .loc[row_indexer,col_indexer] = value instead\n",
      "\n",
      "See the caveats in the documentation: https://pandas.pydata.org/pandas-docs/stable/user_guide/indexing.html#returning-a-view-versus-a-copy\n",
      "  \"\"\"Entry point for launching an IPython kernel.\n"
     ]
    },
    {
     "data": {
      "text/html": [
       "<div>\n",
       "<style scoped>\n",
       "    .dataframe tbody tr th:only-of-type {\n",
       "        vertical-align: middle;\n",
       "    }\n",
       "\n",
       "    .dataframe tbody tr th {\n",
       "        vertical-align: top;\n",
       "    }\n",
       "\n",
       "    .dataframe thead th {\n",
       "        text-align: right;\n",
       "    }\n",
       "</style>\n",
       "<table border=\"1\" class=\"dataframe\">\n",
       "  <thead>\n",
       "    <tr style=\"text-align: right;\">\n",
       "      <th></th>\n",
       "      <th>source</th>\n",
       "      <th>target</th>\n",
       "      <th>source_name</th>\n",
       "      <th>target_name</th>\n",
       "    </tr>\n",
       "  </thead>\n",
       "  <tbody>\n",
       "    <tr>\n",
       "      <th>0</th>\n",
       "      <td>1.035870e+18</td>\n",
       "      <td>1.035870e+18</td>\n",
       "      <td>hyacinthyou_</td>\n",
       "      <td>'hyacinthyou_'</td>\n",
       "    </tr>\n",
       "    <tr>\n",
       "      <th>1</th>\n",
       "      <td>1.582990e+18</td>\n",
       "      <td>3.772331e+08</td>\n",
       "      <td>alparezi11</td>\n",
       "      <td>'AbdinegaraSetia'</td>\n",
       "    </tr>\n",
       "    <tr>\n",
       "      <th>2</th>\n",
       "      <td>1.310290e+18</td>\n",
       "      <td>1.310290e+18</td>\n",
       "      <td>Penjagajokowi1</td>\n",
       "      <td>'Penjagajokowi1'</td>\n",
       "    </tr>\n",
       "    <tr>\n",
       "      <th>3</th>\n",
       "      <td>1.310290e+18</td>\n",
       "      <td>1.310290e+18</td>\n",
       "      <td>Penjagajokowi1</td>\n",
       "      <td>'Penjagajokowi1'</td>\n",
       "    </tr>\n",
       "    <tr>\n",
       "      <th>4</th>\n",
       "      <td>1.310290e+18</td>\n",
       "      <td>1.310290e+18</td>\n",
       "      <td>Penjagajokowi1</td>\n",
       "      <td>'Penjagajokowi1'</td>\n",
       "    </tr>\n",
       "  </tbody>\n",
       "</table>\n",
       "</div>"
      ],
      "text/plain": [
       "         source        target     source_name        target_name\n",
       "0  1.035870e+18  1.035870e+18    hyacinthyou_     'hyacinthyou_'\n",
       "1  1.582990e+18  3.772331e+08      alparezi11  'AbdinegaraSetia'\n",
       "2  1.310290e+18  1.310290e+18  Penjagajokowi1   'Penjagajokowi1'\n",
       "3  1.310290e+18  1.310290e+18  Penjagajokowi1   'Penjagajokowi1'\n",
       "4  1.310290e+18  1.310290e+18  Penjagajokowi1   'Penjagajokowi1'"
      ]
     },
     "execution_count": 29,
     "metadata": {},
     "output_type": "execute_result"
    }
   ],
   "source": [
    "network['source_name']=newer_name\n",
    "network.head()"
   ]
  },
  {
   "cell_type": "code",
   "execution_count": 30,
   "id": "a39a38d2-396c-4c6b-b065-97806a764d20",
   "metadata": {},
   "outputs": [],
   "source": [
    "# remove quotation marks from target names:\n",
    "\n",
    "target_name=[]\n",
    "for i in network['target_name']:\n",
    "    target_name.append(str(i).strip(\"\\'\"))"
   ]
  },
  {
   "cell_type": "code",
   "execution_count": 31,
   "id": "3451620e-fcfd-4e2b-abce-3429aae14ed3",
   "metadata": {},
   "outputs": [
    {
     "name": "stderr",
     "output_type": "stream",
     "text": [
      "C:\\mambo\\envs\\dsi-sg-37\\lib\\site-packages\\ipykernel_launcher.py:1: SettingWithCopyWarning: \n",
      "A value is trying to be set on a copy of a slice from a DataFrame.\n",
      "Try using .loc[row_indexer,col_indexer] = value instead\n",
      "\n",
      "See the caveats in the documentation: https://pandas.pydata.org/pandas-docs/stable/user_guide/indexing.html#returning-a-view-versus-a-copy\n",
      "  \"\"\"Entry point for launching an IPython kernel.\n"
     ]
    },
    {
     "data": {
      "text/html": [
       "<div>\n",
       "<style scoped>\n",
       "    .dataframe tbody tr th:only-of-type {\n",
       "        vertical-align: middle;\n",
       "    }\n",
       "\n",
       "    .dataframe tbody tr th {\n",
       "        vertical-align: top;\n",
       "    }\n",
       "\n",
       "    .dataframe thead th {\n",
       "        text-align: right;\n",
       "    }\n",
       "</style>\n",
       "<table border=\"1\" class=\"dataframe\">\n",
       "  <thead>\n",
       "    <tr style=\"text-align: right;\">\n",
       "      <th></th>\n",
       "      <th>source</th>\n",
       "      <th>target</th>\n",
       "      <th>source_name</th>\n",
       "      <th>target_name</th>\n",
       "    </tr>\n",
       "  </thead>\n",
       "  <tbody>\n",
       "    <tr>\n",
       "      <th>0</th>\n",
       "      <td>1.035870e+18</td>\n",
       "      <td>1.035870e+18</td>\n",
       "      <td>hyacinthyou_</td>\n",
       "      <td>hyacinthyou_</td>\n",
       "    </tr>\n",
       "    <tr>\n",
       "      <th>1</th>\n",
       "      <td>1.582990e+18</td>\n",
       "      <td>3.772331e+08</td>\n",
       "      <td>alparezi11</td>\n",
       "      <td>AbdinegaraSetia</td>\n",
       "    </tr>\n",
       "    <tr>\n",
       "      <th>2</th>\n",
       "      <td>1.310290e+18</td>\n",
       "      <td>1.310290e+18</td>\n",
       "      <td>Penjagajokowi1</td>\n",
       "      <td>Penjagajokowi1</td>\n",
       "    </tr>\n",
       "    <tr>\n",
       "      <th>3</th>\n",
       "      <td>1.310290e+18</td>\n",
       "      <td>1.310290e+18</td>\n",
       "      <td>Penjagajokowi1</td>\n",
       "      <td>Penjagajokowi1</td>\n",
       "    </tr>\n",
       "    <tr>\n",
       "      <th>4</th>\n",
       "      <td>1.310290e+18</td>\n",
       "      <td>1.310290e+18</td>\n",
       "      <td>Penjagajokowi1</td>\n",
       "      <td>Penjagajokowi1</td>\n",
       "    </tr>\n",
       "  </tbody>\n",
       "</table>\n",
       "</div>"
      ],
      "text/plain": [
       "         source        target     source_name      target_name\n",
       "0  1.035870e+18  1.035870e+18    hyacinthyou_     hyacinthyou_\n",
       "1  1.582990e+18  3.772331e+08      alparezi11  AbdinegaraSetia\n",
       "2  1.310290e+18  1.310290e+18  Penjagajokowi1   Penjagajokowi1\n",
       "3  1.310290e+18  1.310290e+18  Penjagajokowi1   Penjagajokowi1\n",
       "4  1.310290e+18  1.310290e+18  Penjagajokowi1   Penjagajokowi1"
      ]
     },
     "execution_count": 31,
     "metadata": {},
     "output_type": "execute_result"
    }
   ],
   "source": [
    "network['target_name']=target_name\n",
    "network.head()"
   ]
  },
  {
   "cell_type": "code",
   "execution_count": 33,
   "id": "bfa2000a-69ca-4209-92a1-d82c9985d25e",
   "metadata": {},
   "outputs": [
    {
     "name": "stderr",
     "output_type": "stream",
     "text": [
      "C:\\mambo\\envs\\dsi-sg-37\\lib\\site-packages\\pandas\\util\\_decorators.py:311: SettingWithCopyWarning: \n",
      "A value is trying to be set on a copy of a slice from a DataFrame\n",
      "\n",
      "See the caveats in the documentation: https://pandas.pydata.org/pandas-docs/stable/user_guide/indexing.html#returning-a-view-versus-a-copy\n",
      "  return func(*args, **kwargs)\n"
     ]
    }
   ],
   "source": [
    "network.drop_duplicates(inplace=True)"
   ]
  },
  {
   "cell_type": "code",
   "execution_count": 34,
   "id": "7df0fe43-b1da-49ff-8860-62428d608bb7",
   "metadata": {},
   "outputs": [
    {
     "data": {
      "text/html": [
       "<div>\n",
       "<style scoped>\n",
       "    .dataframe tbody tr th:only-of-type {\n",
       "        vertical-align: middle;\n",
       "    }\n",
       "\n",
       "    .dataframe tbody tr th {\n",
       "        vertical-align: top;\n",
       "    }\n",
       "\n",
       "    .dataframe thead th {\n",
       "        text-align: right;\n",
       "    }\n",
       "</style>\n",
       "<table border=\"1\" class=\"dataframe\">\n",
       "  <thead>\n",
       "    <tr style=\"text-align: right;\">\n",
       "      <th></th>\n",
       "      <th>source</th>\n",
       "      <th>target</th>\n",
       "      <th>source_name</th>\n",
       "      <th>target_name</th>\n",
       "    </tr>\n",
       "  </thead>\n",
       "  <tbody>\n",
       "    <tr>\n",
       "      <th>0</th>\n",
       "      <td>1.035870e+18</td>\n",
       "      <td>1.035870e+18</td>\n",
       "      <td>hyacinthyou_</td>\n",
       "      <td>hyacinthyou_</td>\n",
       "    </tr>\n",
       "    <tr>\n",
       "      <th>1</th>\n",
       "      <td>1.582990e+18</td>\n",
       "      <td>3.772331e+08</td>\n",
       "      <td>alparezi11</td>\n",
       "      <td>AbdinegaraSetia</td>\n",
       "    </tr>\n",
       "    <tr>\n",
       "      <th>2</th>\n",
       "      <td>1.310290e+18</td>\n",
       "      <td>1.310290e+18</td>\n",
       "      <td>Penjagajokowi1</td>\n",
       "      <td>Penjagajokowi1</td>\n",
       "    </tr>\n",
       "    <tr>\n",
       "      <th>6</th>\n",
       "      <td>8.846890e+17</td>\n",
       "      <td>8.846890e+17</td>\n",
       "      <td>GerBangNKRI</td>\n",
       "      <td>GerBangNKRI</td>\n",
       "    </tr>\n",
       "    <tr>\n",
       "      <th>7</th>\n",
       "      <td>1.284630e+18</td>\n",
       "      <td>1.284630e+18</td>\n",
       "      <td>Ikhaamina</td>\n",
       "      <td>Ikhaamina</td>\n",
       "    </tr>\n",
       "  </tbody>\n",
       "</table>\n",
       "</div>"
      ],
      "text/plain": [
       "         source        target     source_name      target_name\n",
       "0  1.035870e+18  1.035870e+18    hyacinthyou_     hyacinthyou_\n",
       "1  1.582990e+18  3.772331e+08      alparezi11  AbdinegaraSetia\n",
       "2  1.310290e+18  1.310290e+18  Penjagajokowi1   Penjagajokowi1\n",
       "6  8.846890e+17  8.846890e+17     GerBangNKRI      GerBangNKRI\n",
       "7  1.284630e+18  1.284630e+18       Ikhaamina        Ikhaamina"
      ]
     },
     "execution_count": 34,
     "metadata": {},
     "output_type": "execute_result"
    }
   ],
   "source": [
    "network.head()"
   ]
  },
  {
   "cell_type": "markdown",
   "id": "595bfc30-4211-4571-a2ca-cd23880c019f",
   "metadata": {},
   "source": [
    "The few steps below is to remove self-replying data, we want to know which user replies to which other user(s), self-reply is not relevant in this case."
   ]
  },
  {
   "cell_type": "code",
   "execution_count": 52,
   "id": "94d7b35c-628d-4c4b-be6a-5da28b9c3032",
   "metadata": {},
   "outputs": [
    {
     "name": "stderr",
     "output_type": "stream",
     "text": [
      "C:\\mambo\\envs\\dsi-sg-37\\lib\\site-packages\\ipykernel_launcher.py:1: SettingWithCopyWarning: \n",
      "A value is trying to be set on a copy of a slice from a DataFrame.\n",
      "Try using .loc[row_indexer,col_indexer] = value instead\n",
      "\n",
      "See the caveats in the documentation: https://pandas.pydata.org/pandas-docs/stable/user_guide/indexing.html#returning-a-view-versus-a-copy\n",
      "  \"\"\"Entry point for launching an IPython kernel.\n"
     ]
    }
   ],
   "source": [
    "network['self'] = network['source']-network['target']"
   ]
  },
  {
   "cell_type": "code",
   "execution_count": 55,
   "id": "9644a5ee-dedf-411e-a889-589160157c7c",
   "metadata": {},
   "outputs": [
    {
     "data": {
      "text/html": [
       "<div>\n",
       "<style scoped>\n",
       "    .dataframe tbody tr th:only-of-type {\n",
       "        vertical-align: middle;\n",
       "    }\n",
       "\n",
       "    .dataframe tbody tr th {\n",
       "        vertical-align: top;\n",
       "    }\n",
       "\n",
       "    .dataframe thead th {\n",
       "        text-align: right;\n",
       "    }\n",
       "</style>\n",
       "<table border=\"1\" class=\"dataframe\">\n",
       "  <thead>\n",
       "    <tr style=\"text-align: right;\">\n",
       "      <th></th>\n",
       "      <th>source</th>\n",
       "      <th>target</th>\n",
       "      <th>source_name</th>\n",
       "      <th>target_name</th>\n",
       "      <th>self</th>\n",
       "    </tr>\n",
       "  </thead>\n",
       "  <tbody>\n",
       "    <tr>\n",
       "      <th>0</th>\n",
       "      <td>1.035870e+18</td>\n",
       "      <td>1.035870e+18</td>\n",
       "      <td>hyacinthyou_</td>\n",
       "      <td>hyacinthyou_</td>\n",
       "      <td>0.0</td>\n",
       "    </tr>\n",
       "    <tr>\n",
       "      <th>2</th>\n",
       "      <td>1.310290e+18</td>\n",
       "      <td>1.310290e+18</td>\n",
       "      <td>Penjagajokowi1</td>\n",
       "      <td>Penjagajokowi1</td>\n",
       "      <td>0.0</td>\n",
       "    </tr>\n",
       "    <tr>\n",
       "      <th>6</th>\n",
       "      <td>8.846890e+17</td>\n",
       "      <td>8.846890e+17</td>\n",
       "      <td>GerBangNKRI</td>\n",
       "      <td>GerBangNKRI</td>\n",
       "      <td>0.0</td>\n",
       "    </tr>\n",
       "    <tr>\n",
       "      <th>7</th>\n",
       "      <td>1.284630e+18</td>\n",
       "      <td>1.284630e+18</td>\n",
       "      <td>Ikhaamina</td>\n",
       "      <td>Ikhaamina</td>\n",
       "      <td>0.0</td>\n",
       "    </tr>\n",
       "    <tr>\n",
       "      <th>9</th>\n",
       "      <td>1.333710e+18</td>\n",
       "      <td>1.333710e+18</td>\n",
       "      <td>Majidan7</td>\n",
       "      <td>Majidan7</td>\n",
       "      <td>0.0</td>\n",
       "    </tr>\n",
       "  </tbody>\n",
       "</table>\n",
       "</div>"
      ],
      "text/plain": [
       "         source        target     source_name     target_name  self\n",
       "0  1.035870e+18  1.035870e+18    hyacinthyou_    hyacinthyou_   0.0\n",
       "2  1.310290e+18  1.310290e+18  Penjagajokowi1  Penjagajokowi1   0.0\n",
       "6  8.846890e+17  8.846890e+17     GerBangNKRI     GerBangNKRI   0.0\n",
       "7  1.284630e+18  1.284630e+18       Ikhaamina       Ikhaamina   0.0\n",
       "9  1.333710e+18  1.333710e+18        Majidan7        Majidan7   0.0"
      ]
     },
     "execution_count": 55,
     "metadata": {},
     "output_type": "execute_result"
    }
   ],
   "source": [
    "zero_self=network.loc[network['self']==0.0,:]\n",
    "zero_self.head()"
   ]
  },
  {
   "cell_type": "code",
   "execution_count": 58,
   "id": "bd355264-1ddc-4e20-b22e-f7143a312e57",
   "metadata": {},
   "outputs": [
    {
     "name": "stdout",
     "output_type": "stream",
     "text": [
      "<class 'pandas.core.frame.DataFrame'>\n",
      "Int64Index: 529 entries, 0 to 2351\n",
      "Data columns (total 5 columns):\n",
      " #   Column       Non-Null Count  Dtype  \n",
      "---  ------       --------------  -----  \n",
      " 0   source       529 non-null    float64\n",
      " 1   target       529 non-null    float64\n",
      " 2   source_name  529 non-null    object \n",
      " 3   target_name  529 non-null    object \n",
      " 4   self         529 non-null    float64\n",
      "dtypes: float64(3), object(2)\n",
      "memory usage: 41.0+ KB\n"
     ]
    }
   ],
   "source": [
    "zero_self.info()"
   ]
  },
  {
   "cell_type": "code",
   "execution_count": 56,
   "id": "124517d4-86a1-4806-8657-3e1d8272c789",
   "metadata": {},
   "outputs": [],
   "source": [
    "# dataframe without self-replying\n",
    "\n",
    "network_noself=network[~network.isin(zero_self)].dropna(how = 'all')"
   ]
  },
  {
   "cell_type": "code",
   "execution_count": 57,
   "id": "70654a23-00df-4aa8-a343-df603dd60975",
   "metadata": {},
   "outputs": [
    {
     "name": "stdout",
     "output_type": "stream",
     "text": [
      "<class 'pandas.core.frame.DataFrame'>\n",
      "Int64Index: 851 entries, 1 to 2358\n",
      "Data columns (total 5 columns):\n",
      " #   Column       Non-Null Count  Dtype  \n",
      "---  ------       --------------  -----  \n",
      " 0   source       851 non-null    float64\n",
      " 1   target       851 non-null    float64\n",
      " 2   source_name  851 non-null    object \n",
      " 3   target_name  851 non-null    object \n",
      " 4   self         851 non-null    float64\n",
      "dtypes: float64(3), object(2)\n",
      "memory usage: 39.9+ KB\n"
     ]
    }
   ],
   "source": [
    "network_noself.info()"
   ]
  },
  {
   "cell_type": "code",
   "execution_count": 59,
   "id": "dea59ece-7d2e-4da9-abf4-6ca40cc6ecd7",
   "metadata": {},
   "outputs": [
    {
     "data": {
      "text/html": [
       "<div>\n",
       "<style scoped>\n",
       "    .dataframe tbody tr th:only-of-type {\n",
       "        vertical-align: middle;\n",
       "    }\n",
       "\n",
       "    .dataframe tbody tr th {\n",
       "        vertical-align: top;\n",
       "    }\n",
       "\n",
       "    .dataframe thead th {\n",
       "        text-align: right;\n",
       "    }\n",
       "</style>\n",
       "<table border=\"1\" class=\"dataframe\">\n",
       "  <thead>\n",
       "    <tr style=\"text-align: right;\">\n",
       "      <th></th>\n",
       "      <th>source</th>\n",
       "      <th>target</th>\n",
       "      <th>source_name</th>\n",
       "      <th>target_name</th>\n",
       "      <th>self</th>\n",
       "    </tr>\n",
       "  </thead>\n",
       "  <tbody>\n",
       "    <tr>\n",
       "      <th>1</th>\n",
       "      <td>1.582990e+18</td>\n",
       "      <td>3.772331e+08</td>\n",
       "      <td>alparezi11</td>\n",
       "      <td>AbdinegaraSetia</td>\n",
       "      <td>1.582990e+18</td>\n",
       "    </tr>\n",
       "    <tr>\n",
       "      <th>10</th>\n",
       "      <td>1.548141e+09</td>\n",
       "      <td>8.877440e+17</td>\n",
       "      <td>esasuryo</td>\n",
       "      <td>OposisiCerdas</td>\n",
       "      <td>-8.877440e+17</td>\n",
       "    </tr>\n",
       "    <tr>\n",
       "      <th>11</th>\n",
       "      <td>1.548141e+09</td>\n",
       "      <td>1.466650e+18</td>\n",
       "      <td>esasuryo</td>\n",
       "      <td>papa_loren</td>\n",
       "      <td>-1.466650e+18</td>\n",
       "    </tr>\n",
       "    <tr>\n",
       "      <th>15</th>\n",
       "      <td>1.082310e+18</td>\n",
       "      <td>1.202110e+18</td>\n",
       "      <td>MamJr4</td>\n",
       "      <td>Leonita_Lestari</td>\n",
       "      <td>-1.198000e+17</td>\n",
       "    </tr>\n",
       "    <tr>\n",
       "      <th>16</th>\n",
       "      <td>1.082310e+18</td>\n",
       "      <td>4.195720e+08</td>\n",
       "      <td>MamJr4</td>\n",
       "      <td>RyaWiedy</td>\n",
       "      <td>1.082310e+18</td>\n",
       "    </tr>\n",
       "  </tbody>\n",
       "</table>\n",
       "</div>"
      ],
      "text/plain": [
       "          source        target source_name      target_name          self\n",
       "1   1.582990e+18  3.772331e+08  alparezi11  AbdinegaraSetia  1.582990e+18\n",
       "10  1.548141e+09  8.877440e+17    esasuryo    OposisiCerdas -8.877440e+17\n",
       "11  1.548141e+09  1.466650e+18    esasuryo       papa_loren -1.466650e+18\n",
       "15  1.082310e+18  1.202110e+18      MamJr4  Leonita_Lestari -1.198000e+17\n",
       "16  1.082310e+18  4.195720e+08      MamJr4         RyaWiedy  1.082310e+18"
      ]
     },
     "execution_count": 59,
     "metadata": {},
     "output_type": "execute_result"
    }
   ],
   "source": [
    "network_noself.head()"
   ]
  },
  {
   "cell_type": "code",
   "execution_count": 67,
   "id": "4d7eeb45-da73-487c-8a6b-08cfcb658b9e",
   "metadata": {},
   "outputs": [
    {
     "name": "stdout",
     "output_type": "stream",
     "text": [
      "<class 'pandas.core.frame.DataFrame'>\n",
      "Int64Index: 851 entries, 1 to 2358\n",
      "Data columns (total 1 columns):\n",
      " #   Column  Non-Null Count  Dtype  \n",
      "---  ------  --------------  -----  \n",
      " 0   target  851 non-null    float64\n",
      "dtypes: float64(1)\n",
      "memory usage: 13.3 KB\n"
     ]
    }
   ],
   "source": [
    "# establsih nodes\n",
    "\n",
    "nodes = pd.DataFrame(data=network_noself['target'])\n",
    "nodes.info()"
   ]
  },
  {
   "cell_type": "code",
   "execution_count": 68,
   "id": "3064f534-5eeb-4ba0-a380-c4a19c3541c7",
   "metadata": {},
   "outputs": [
    {
     "name": "stdout",
     "output_type": "stream",
     "text": [
      "<class 'pandas.core.frame.DataFrame'>\n",
      "Int64Index: 387 entries, 1 to 2357\n",
      "Data columns (total 2 columns):\n",
      " #   Column  Non-Null Count  Dtype  \n",
      "---  ------  --------------  -----  \n",
      " 0   id      387 non-null    float64\n",
      " 1   label   387 non-null    object \n",
      "dtypes: float64(1), object(1)\n",
      "memory usage: 9.1+ KB\n",
      "None\n"
     ]
    },
    {
     "data": {
      "text/html": [
       "<div>\n",
       "<style scoped>\n",
       "    .dataframe tbody tr th:only-of-type {\n",
       "        vertical-align: middle;\n",
       "    }\n",
       "\n",
       "    .dataframe tbody tr th {\n",
       "        vertical-align: top;\n",
       "    }\n",
       "\n",
       "    .dataframe thead th {\n",
       "        text-align: right;\n",
       "    }\n",
       "</style>\n",
       "<table border=\"1\" class=\"dataframe\">\n",
       "  <thead>\n",
       "    <tr style=\"text-align: right;\">\n",
       "      <th></th>\n",
       "      <th>id</th>\n",
       "      <th>label</th>\n",
       "    </tr>\n",
       "  </thead>\n",
       "  <tbody>\n",
       "    <tr>\n",
       "      <th>1</th>\n",
       "      <td>3.772331e+08</td>\n",
       "      <td>AbdinegaraSetia</td>\n",
       "    </tr>\n",
       "    <tr>\n",
       "      <th>10</th>\n",
       "      <td>8.877440e+17</td>\n",
       "      <td>OposisiCerdas</td>\n",
       "    </tr>\n",
       "    <tr>\n",
       "      <th>11</th>\n",
       "      <td>1.466650e+18</td>\n",
       "      <td>papa_loren</td>\n",
       "    </tr>\n",
       "    <tr>\n",
       "      <th>15</th>\n",
       "      <td>1.202110e+18</td>\n",
       "      <td>Leonita_Lestari</td>\n",
       "    </tr>\n",
       "    <tr>\n",
       "      <th>16</th>\n",
       "      <td>4.195720e+08</td>\n",
       "      <td>RyaWiedy</td>\n",
       "    </tr>\n",
       "  </tbody>\n",
       "</table>\n",
       "</div>"
      ],
      "text/plain": [
       "              id            label\n",
       "1   3.772331e+08  AbdinegaraSetia\n",
       "10  8.877440e+17    OposisiCerdas\n",
       "11  1.466650e+18       papa_loren\n",
       "15  1.202110e+18  Leonita_Lestari\n",
       "16  4.195720e+08         RyaWiedy"
      ]
     },
     "execution_count": 68,
     "metadata": {},
     "output_type": "execute_result"
    }
   ],
   "source": [
    "nodes['id']=nodes['target']\n",
    "nodes['label']=network_noself['target_name']\n",
    "nodes.drop_duplicates(inplace=True)\n",
    "nodes.drop(columns=['target'],inplace=True)\n",
    "print(nodes.info())\n",
    "nodes.head()"
   ]
  },
  {
   "cell_type": "code",
   "execution_count": 69,
   "id": "44089619-6744-4999-8011-d036a32da1de",
   "metadata": {},
   "outputs": [],
   "source": [
    "# export nodes to csv for network visualization on gephi\n",
    "\n",
    "nodes.to_csv('../data/nodes_gep.csv',index=False)"
   ]
  },
  {
   "cell_type": "code",
   "execution_count": 63,
   "id": "56447c9b-bb22-4867-bf55-1c3772717ce0",
   "metadata": {},
   "outputs": [
    {
     "name": "stdout",
     "output_type": "stream",
     "text": [
      "<class 'pandas.core.frame.DataFrame'>\n",
      "Int64Index: 851 entries, 1 to 2358\n",
      "Data columns (total 1 columns):\n",
      " #   Column  Non-Null Count  Dtype  \n",
      "---  ------  --------------  -----  \n",
      " 0   source  851 non-null    float64\n",
      "dtypes: float64(1)\n",
      "memory usage: 13.3 KB\n"
     ]
    }
   ],
   "source": [
    "# establish data for edges\n",
    "\n",
    "edges = pd.DataFrame(data=network_noself['source'])\n",
    "edges.info()"
   ]
  },
  {
   "cell_type": "code",
   "execution_count": 64,
   "id": "ac709dc6-fe76-47de-84d4-67a789d235f6",
   "metadata": {},
   "outputs": [
    {
     "data": {
      "text/html": [
       "<div>\n",
       "<style scoped>\n",
       "    .dataframe tbody tr th:only-of-type {\n",
       "        vertical-align: middle;\n",
       "    }\n",
       "\n",
       "    .dataframe tbody tr th {\n",
       "        vertical-align: top;\n",
       "    }\n",
       "\n",
       "    .dataframe thead th {\n",
       "        text-align: right;\n",
       "    }\n",
       "</style>\n",
       "<table border=\"1\" class=\"dataframe\">\n",
       "  <thead>\n",
       "    <tr style=\"text-align: right;\">\n",
       "      <th></th>\n",
       "      <th>source</th>\n",
       "      <th>target</th>\n",
       "      <th>source_name</th>\n",
       "      <th>target_name</th>\n",
       "    </tr>\n",
       "  </thead>\n",
       "  <tbody>\n",
       "    <tr>\n",
       "      <th>1</th>\n",
       "      <td>1.582990e+18</td>\n",
       "      <td>3.772331e+08</td>\n",
       "      <td>alparezi11</td>\n",
       "      <td>AbdinegaraSetia</td>\n",
       "    </tr>\n",
       "    <tr>\n",
       "      <th>10</th>\n",
       "      <td>1.548141e+09</td>\n",
       "      <td>8.877440e+17</td>\n",
       "      <td>esasuryo</td>\n",
       "      <td>OposisiCerdas</td>\n",
       "    </tr>\n",
       "    <tr>\n",
       "      <th>11</th>\n",
       "      <td>1.548141e+09</td>\n",
       "      <td>1.466650e+18</td>\n",
       "      <td>esasuryo</td>\n",
       "      <td>papa_loren</td>\n",
       "    </tr>\n",
       "    <tr>\n",
       "      <th>15</th>\n",
       "      <td>1.082310e+18</td>\n",
       "      <td>1.202110e+18</td>\n",
       "      <td>MamJr4</td>\n",
       "      <td>Leonita_Lestari</td>\n",
       "    </tr>\n",
       "    <tr>\n",
       "      <th>16</th>\n",
       "      <td>1.082310e+18</td>\n",
       "      <td>4.195720e+08</td>\n",
       "      <td>MamJr4</td>\n",
       "      <td>RyaWiedy</td>\n",
       "    </tr>\n",
       "  </tbody>\n",
       "</table>\n",
       "</div>"
      ],
      "text/plain": [
       "          source        target source_name      target_name\n",
       "1   1.582990e+18  3.772331e+08  alparezi11  AbdinegaraSetia\n",
       "10  1.548141e+09  8.877440e+17    esasuryo    OposisiCerdas\n",
       "11  1.548141e+09  1.466650e+18    esasuryo       papa_loren\n",
       "15  1.082310e+18  1.202110e+18      MamJr4  Leonita_Lestari\n",
       "16  1.082310e+18  4.195720e+08      MamJr4         RyaWiedy"
      ]
     },
     "execution_count": 64,
     "metadata": {},
     "output_type": "execute_result"
    }
   ],
   "source": [
    "edges['target']=network_noself['target']\n",
    "edges['source_name']=network_noself['source_name']\n",
    "edges['target_name']=network_noself['target_name']\n",
    "edges.head()"
   ]
  },
  {
   "cell_type": "code",
   "execution_count": 65,
   "id": "43c426a2-163c-4bd3-84c2-4df45eda0dcf",
   "metadata": {},
   "outputs": [
    {
     "name": "stdout",
     "output_type": "stream",
     "text": [
      "594\n"
     ]
    },
    {
     "data": {
      "text/plain": [
       "387"
      ]
     },
     "execution_count": 65,
     "metadata": {},
     "output_type": "execute_result"
    }
   ],
   "source": [
    "print(edges['source_name'].nunique())\n",
    "edges['target_name'].nunique()"
   ]
  },
  {
   "cell_type": "code",
   "execution_count": 66,
   "id": "1a518ad7-1caf-4a13-958f-be64a9d15a09",
   "metadata": {},
   "outputs": [],
   "source": [
    "# export edges to csv for network visualization on gephi\n",
    "\n",
    "edges.to_csv('../data/edges_gep.csv',index=False)"
   ]
  },
  {
   "cell_type": "markdown",
   "id": "1273c307-4f7e-4854-b585-cdf1aa608be7",
   "metadata": {},
   "source": [
    "#### Part 2: Data prep for Tableau visualization\n",
    "This part prepares data for topic classification slide on [Tableau](https://public.tableau.com/app/profile/m.alexander8473/viz/capitalrelocationtwitteranalysis/presentation?publish=yes)<br>\n",
    "\n",
    "The data used here are the results of topic classification using IndoBert GPT2, done on [notebook 4](https://colab.research.google.com/drive/1-YByOO9JaoM5d9Feyd_vfaIQF4kJbu9M#scrollTo=LRNJPxMre_J1)"
   ]
  },
  {
   "cell_type": "code",
   "execution_count": 3,
   "id": "bf8195bd-7a12-457b-a5d0-a55dfd11b96d",
   "metadata": {},
   "outputs": [],
   "source": [
    "# import topic classification results from notebook 4\n",
    "\n",
    "topic=pd.read_csv('../data/topic_class_oct.csv')"
   ]
  },
  {
   "cell_type": "code",
   "execution_count": 4,
   "id": "871570fd-2f92-4699-87af-7dab203c3b1f",
   "metadata": {},
   "outputs": [
    {
     "data": {
      "text/html": [
       "<div>\n",
       "<style scoped>\n",
       "    .dataframe tbody tr th:only-of-type {\n",
       "        vertical-align: middle;\n",
       "    }\n",
       "\n",
       "    .dataframe tbody tr th {\n",
       "        vertical-align: top;\n",
       "    }\n",
       "\n",
       "    .dataframe thead th {\n",
       "        text-align: right;\n",
       "    }\n",
       "</style>\n",
       "<table border=\"1\" class=\"dataframe\">\n",
       "  <thead>\n",
       "    <tr style=\"text-align: right;\">\n",
       "      <th></th>\n",
       "      <th>politics</th>\n",
       "      <th>technologies</th>\n",
       "    </tr>\n",
       "  </thead>\n",
       "  <tbody>\n",
       "    <tr>\n",
       "      <th>0</th>\n",
       "      <td>0.5163</td>\n",
       "      <td>0.5133</td>\n",
       "    </tr>\n",
       "    <tr>\n",
       "      <th>1</th>\n",
       "      <td>0.6435</td>\n",
       "      <td>0.6426</td>\n",
       "    </tr>\n",
       "    <tr>\n",
       "      <th>2</th>\n",
       "      <td>0.6308</td>\n",
       "      <td>0.5974</td>\n",
       "    </tr>\n",
       "    <tr>\n",
       "      <th>3</th>\n",
       "      <td>0.5758</td>\n",
       "      <td>0.5365</td>\n",
       "    </tr>\n",
       "    <tr>\n",
       "      <th>4</th>\n",
       "      <td>0.6103</td>\n",
       "      <td>0.5723</td>\n",
       "    </tr>\n",
       "  </tbody>\n",
       "</table>\n",
       "</div>"
      ],
      "text/plain": [
       "   politics  technologies\n",
       "0    0.5163        0.5133\n",
       "1    0.6435        0.6426\n",
       "2    0.6308        0.5974\n",
       "3    0.5758        0.5365\n",
       "4    0.6103        0.5723"
      ]
     },
     "execution_count": 4,
     "metadata": {},
     "output_type": "execute_result"
    }
   ],
   "source": [
    "topic.head()"
   ]
  },
  {
   "cell_type": "code",
   "execution_count": 6,
   "id": "77835919-75b6-47ed-b8dd-4c108635e8c3",
   "metadata": {},
   "outputs": [
    {
     "data": {
      "text/html": [
       "<div>\n",
       "<style scoped>\n",
       "    .dataframe tbody tr th:only-of-type {\n",
       "        vertical-align: middle;\n",
       "    }\n",
       "\n",
       "    .dataframe tbody tr th {\n",
       "        vertical-align: top;\n",
       "    }\n",
       "\n",
       "    .dataframe thead th {\n",
       "        text-align: right;\n",
       "    }\n",
       "</style>\n",
       "<table border=\"1\" class=\"dataframe\">\n",
       "  <thead>\n",
       "    <tr style=\"text-align: right;\">\n",
       "      <th></th>\n",
       "      <th>politics</th>\n",
       "      <th>technologies</th>\n",
       "      <th>delta</th>\n",
       "    </tr>\n",
       "  </thead>\n",
       "  <tbody>\n",
       "    <tr>\n",
       "      <th>0</th>\n",
       "      <td>0.5163</td>\n",
       "      <td>0.5133</td>\n",
       "      <td>0.0030</td>\n",
       "    </tr>\n",
       "    <tr>\n",
       "      <th>1</th>\n",
       "      <td>0.6435</td>\n",
       "      <td>0.6426</td>\n",
       "      <td>0.0009</td>\n",
       "    </tr>\n",
       "    <tr>\n",
       "      <th>2</th>\n",
       "      <td>0.6308</td>\n",
       "      <td>0.5974</td>\n",
       "      <td>0.0334</td>\n",
       "    </tr>\n",
       "    <tr>\n",
       "      <th>3</th>\n",
       "      <td>0.5758</td>\n",
       "      <td>0.5365</td>\n",
       "      <td>0.0393</td>\n",
       "    </tr>\n",
       "    <tr>\n",
       "      <th>4</th>\n",
       "      <td>0.6103</td>\n",
       "      <td>0.5723</td>\n",
       "      <td>0.0380</td>\n",
       "    </tr>\n",
       "  </tbody>\n",
       "</table>\n",
       "</div>"
      ],
      "text/plain": [
       "   politics  technologies   delta\n",
       "0    0.5163        0.5133  0.0030\n",
       "1    0.6435        0.6426  0.0009\n",
       "2    0.6308        0.5974  0.0334\n",
       "3    0.5758        0.5365  0.0393\n",
       "4    0.6103        0.5723  0.0380"
      ]
     },
     "execution_count": 6,
     "metadata": {},
     "output_type": "execute_result"
    }
   ],
   "source": [
    "# get the score difference between politics and technologies\n",
    "\n",
    "topic['delta']= topic['politics'] - topic['technologies']\n",
    "topic.head()"
   ]
  },
  {
   "cell_type": "code",
   "execution_count": 8,
   "id": "eb522039-957d-47b1-8726-049d088bfdb9",
   "metadata": {},
   "outputs": [],
   "source": [
    "# import tweets and add into topic df as a new tweet column\n",
    "\n",
    "tweets = pd.read_csv('../data/labeled_tweets.csv')"
   ]
  },
  {
   "cell_type": "code",
   "execution_count": 11,
   "id": "2061761e-a6da-4fb2-93b7-42c05300bd99",
   "metadata": {},
   "outputs": [
    {
     "data": {
      "text/html": [
       "<div>\n",
       "<style scoped>\n",
       "    .dataframe tbody tr th:only-of-type {\n",
       "        vertical-align: middle;\n",
       "    }\n",
       "\n",
       "    .dataframe tbody tr th {\n",
       "        vertical-align: top;\n",
       "    }\n",
       "\n",
       "    .dataframe thead th {\n",
       "        text-align: right;\n",
       "    }\n",
       "</style>\n",
       "<table border=\"1\" class=\"dataframe\">\n",
       "  <thead>\n",
       "    <tr style=\"text-align: right;\">\n",
       "      <th></th>\n",
       "      <th>tweets</th>\n",
       "      <th>politics</th>\n",
       "      <th>technologies</th>\n",
       "      <th>delta</th>\n",
       "    </tr>\n",
       "  </thead>\n",
       "  <tbody>\n",
       "    <tr>\n",
       "      <th>0</th>\n",
       "      <td>sensasi berada di ibu kota nusantara gimana ya...</td>\n",
       "      <td>0.5163</td>\n",
       "      <td>0.5133</td>\n",
       "      <td>0.0030</td>\n",
       "    </tr>\n",
       "    <tr>\n",
       "      <th>1</th>\n",
       "      <td>dengan metaverse bernama jagat nusantara anda ...</td>\n",
       "      <td>0.6435</td>\n",
       "      <td>0.6426</td>\n",
       "      <td>0.0009</td>\n",
       "    </tr>\n",
       "    <tr>\n",
       "      <th>2</th>\n",
       "      <td>metaversa memberikan sensasi berada di ibu kot...</td>\n",
       "      <td>0.6308</td>\n",
       "      <td>0.5974</td>\n",
       "      <td>0.0334</td>\n",
       "    </tr>\n",
       "    <tr>\n",
       "      <th>3</th>\n",
       "      <td>meski pembangunan ikn baru tahap awal melalui ...</td>\n",
       "      <td>0.5758</td>\n",
       "      <td>0.5365</td>\n",
       "      <td>0.0393</td>\n",
       "    </tr>\n",
       "    <tr>\n",
       "      <th>4</th>\n",
       "      <td>meskipun pembangunan ikn baru tahap awalnamun ...</td>\n",
       "      <td>0.6103</td>\n",
       "      <td>0.5723</td>\n",
       "      <td>0.0380</td>\n",
       "    </tr>\n",
       "  </tbody>\n",
       "</table>\n",
       "</div>"
      ],
      "text/plain": [
       "                                              tweets  politics  technologies  \\\n",
       "0  sensasi berada di ibu kota nusantara gimana ya...    0.5163        0.5133   \n",
       "1  dengan metaverse bernama jagat nusantara anda ...    0.6435        0.6426   \n",
       "2  metaversa memberikan sensasi berada di ibu kot...    0.6308        0.5974   \n",
       "3  meski pembangunan ikn baru tahap awal melalui ...    0.5758        0.5365   \n",
       "4  meskipun pembangunan ikn baru tahap awalnamun ...    0.6103        0.5723   \n",
       "\n",
       "    delta  \n",
       "0  0.0030  \n",
       "1  0.0009  \n",
       "2  0.0334  \n",
       "3  0.0393  \n",
       "4  0.0380  "
      ]
     },
     "execution_count": 11,
     "metadata": {},
     "output_type": "execute_result"
    }
   ],
   "source": [
    "tweets= tweets.head(100)\n",
    "topic['tweets']=tweets['tweets']\n",
    "topic = topic[['tweets','politics','technologies','delta']]\n",
    "topic.head()"
   ]
  },
  {
   "cell_type": "code",
   "execution_count": 12,
   "id": "01178413-6b7c-4b8a-8171-98938f9364df",
   "metadata": {},
   "outputs": [],
   "source": [
    "topic.rename(columns={'technologies':'technology'},inplace=True)"
   ]
  },
  {
   "cell_type": "code",
   "execution_count": 13,
   "id": "df69f93b-3d4e-42f7-b92c-a160b0e76b13",
   "metadata": {},
   "outputs": [
    {
     "data": {
      "text/html": [
       "<div>\n",
       "<style scoped>\n",
       "    .dataframe tbody tr th:only-of-type {\n",
       "        vertical-align: middle;\n",
       "    }\n",
       "\n",
       "    .dataframe tbody tr th {\n",
       "        vertical-align: top;\n",
       "    }\n",
       "\n",
       "    .dataframe thead th {\n",
       "        text-align: right;\n",
       "    }\n",
       "</style>\n",
       "<table border=\"1\" class=\"dataframe\">\n",
       "  <thead>\n",
       "    <tr style=\"text-align: right;\">\n",
       "      <th></th>\n",
       "      <th>tweets</th>\n",
       "      <th>politics</th>\n",
       "      <th>technology</th>\n",
       "      <th>delta</th>\n",
       "    </tr>\n",
       "  </thead>\n",
       "  <tbody>\n",
       "    <tr>\n",
       "      <th>0</th>\n",
       "      <td>sensasi berada di ibu kota nusantara gimana ya...</td>\n",
       "      <td>0.5163</td>\n",
       "      <td>0.5133</td>\n",
       "      <td>0.0030</td>\n",
       "    </tr>\n",
       "    <tr>\n",
       "      <th>1</th>\n",
       "      <td>dengan metaverse bernama jagat nusantara anda ...</td>\n",
       "      <td>0.6435</td>\n",
       "      <td>0.6426</td>\n",
       "      <td>0.0009</td>\n",
       "    </tr>\n",
       "    <tr>\n",
       "      <th>2</th>\n",
       "      <td>metaversa memberikan sensasi berada di ibu kot...</td>\n",
       "      <td>0.6308</td>\n",
       "      <td>0.5974</td>\n",
       "      <td>0.0334</td>\n",
       "    </tr>\n",
       "    <tr>\n",
       "      <th>3</th>\n",
       "      <td>meski pembangunan ikn baru tahap awal melalui ...</td>\n",
       "      <td>0.5758</td>\n",
       "      <td>0.5365</td>\n",
       "      <td>0.0393</td>\n",
       "    </tr>\n",
       "    <tr>\n",
       "      <th>4</th>\n",
       "      <td>meskipun pembangunan ikn baru tahap awalnamun ...</td>\n",
       "      <td>0.6103</td>\n",
       "      <td>0.5723</td>\n",
       "      <td>0.0380</td>\n",
       "    </tr>\n",
       "  </tbody>\n",
       "</table>\n",
       "</div>"
      ],
      "text/plain": [
       "                                              tweets  politics  technology  \\\n",
       "0  sensasi berada di ibu kota nusantara gimana ya...    0.5163      0.5133   \n",
       "1  dengan metaverse bernama jagat nusantara anda ...    0.6435      0.6426   \n",
       "2  metaversa memberikan sensasi berada di ibu kot...    0.6308      0.5974   \n",
       "3  meski pembangunan ikn baru tahap awal melalui ...    0.5758      0.5365   \n",
       "4  meskipun pembangunan ikn baru tahap awalnamun ...    0.6103      0.5723   \n",
       "\n",
       "    delta  \n",
       "0  0.0030  \n",
       "1  0.0009  \n",
       "2  0.0334  \n",
       "3  0.0393  \n",
       "4  0.0380  "
      ]
     },
     "execution_count": 13,
     "metadata": {},
     "output_type": "execute_result"
    }
   ],
   "source": [
    "topic.head()"
   ]
  },
  {
   "cell_type": "markdown",
   "id": "16f3e4a5-e8f3-42c8-bbfb-73858b8d0db4",
   "metadata": {},
   "source": [
    "The few lines of codes below set thresholds to classify scores as follow:<br>\n",
    "- scores lower than 50% will be classified as neutral which means neither politics nor technology\n",
    "- because politics always scores higher than technology, another condition was introduced:<br> \n",
    "    if the difference between politics and technology is > 5%, the tweet is classified as politics,\n",
    "    but if the difference is < 5%, the tweet is classified as technology and politics."
   ]
  },
  {
   "cell_type": "code",
   "execution_count": 15,
   "id": "b8b6b7b5-b14a-4f2f-9132-6828979d9ef4",
   "metadata": {},
   "outputs": [],
   "source": [
    "# set temporary variable topic_a\n",
    "\n",
    "topic_a=[]\n",
    "for i in topic['politics']:\n",
    "    if i < 0.5:\n",
    "        topic_a.append(0)\n",
    "    else:\n",
    "        topic_a.append(i)"
   ]
  },
  {
   "cell_type": "code",
   "execution_count": 17,
   "id": "b346c364-820c-47ff-aaad-8d8a1a494605",
   "metadata": {},
   "outputs": [],
   "source": [
    "# add a temporary column A\n",
    "topic['A']=topic_a"
   ]
  },
  {
   "cell_type": "code",
   "execution_count": 20,
   "id": "7a910446-6a8e-454a-b8b7-821a4b19809c",
   "metadata": {},
   "outputs": [
    {
     "data": {
      "text/html": [
       "<div>\n",
       "<style scoped>\n",
       "    .dataframe tbody tr th:only-of-type {\n",
       "        vertical-align: middle;\n",
       "    }\n",
       "\n",
       "    .dataframe tbody tr th {\n",
       "        vertical-align: top;\n",
       "    }\n",
       "\n",
       "    .dataframe thead th {\n",
       "        text-align: right;\n",
       "    }\n",
       "</style>\n",
       "<table border=\"1\" class=\"dataframe\">\n",
       "  <thead>\n",
       "    <tr style=\"text-align: right;\">\n",
       "      <th></th>\n",
       "      <th>tweets</th>\n",
       "      <th>politics</th>\n",
       "      <th>technology</th>\n",
       "      <th>delta</th>\n",
       "      <th>A</th>\n",
       "      <th>B</th>\n",
       "    </tr>\n",
       "  </thead>\n",
       "  <tbody>\n",
       "    <tr>\n",
       "      <th>0</th>\n",
       "      <td>sensasi berada di ibu kota nusantara gimana ya...</td>\n",
       "      <td>0.5163</td>\n",
       "      <td>0.5133</td>\n",
       "      <td>0.0030</td>\n",
       "      <td>0.5163</td>\n",
       "      <td>0.0030</td>\n",
       "    </tr>\n",
       "    <tr>\n",
       "      <th>1</th>\n",
       "      <td>dengan metaverse bernama jagat nusantara anda ...</td>\n",
       "      <td>0.6435</td>\n",
       "      <td>0.6426</td>\n",
       "      <td>0.0009</td>\n",
       "      <td>0.6435</td>\n",
       "      <td>0.0009</td>\n",
       "    </tr>\n",
       "    <tr>\n",
       "      <th>2</th>\n",
       "      <td>metaversa memberikan sensasi berada di ibu kot...</td>\n",
       "      <td>0.6308</td>\n",
       "      <td>0.5974</td>\n",
       "      <td>0.0334</td>\n",
       "      <td>0.6308</td>\n",
       "      <td>0.0334</td>\n",
       "    </tr>\n",
       "    <tr>\n",
       "      <th>3</th>\n",
       "      <td>meski pembangunan ikn baru tahap awal melalui ...</td>\n",
       "      <td>0.5758</td>\n",
       "      <td>0.5365</td>\n",
       "      <td>0.0393</td>\n",
       "      <td>0.5758</td>\n",
       "      <td>0.0393</td>\n",
       "    </tr>\n",
       "    <tr>\n",
       "      <th>4</th>\n",
       "      <td>meskipun pembangunan ikn baru tahap awalnamun ...</td>\n",
       "      <td>0.6103</td>\n",
       "      <td>0.5723</td>\n",
       "      <td>0.0380</td>\n",
       "      <td>0.6103</td>\n",
       "      <td>0.0380</td>\n",
       "    </tr>\n",
       "  </tbody>\n",
       "</table>\n",
       "</div>"
      ],
      "text/plain": [
       "                                              tweets  politics  technology  \\\n",
       "0  sensasi berada di ibu kota nusantara gimana ya...    0.5163      0.5133   \n",
       "1  dengan metaverse bernama jagat nusantara anda ...    0.6435      0.6426   \n",
       "2  metaversa memberikan sensasi berada di ibu kot...    0.6308      0.5974   \n",
       "3  meski pembangunan ikn baru tahap awal melalui ...    0.5758      0.5365   \n",
       "4  meskipun pembangunan ikn baru tahap awalnamun ...    0.6103      0.5723   \n",
       "\n",
       "    delta       A       B  \n",
       "0  0.0030  0.5163  0.0030  \n",
       "1  0.0009  0.6435  0.0009  \n",
       "2  0.0334  0.6308  0.0334  \n",
       "3  0.0393  0.5758  0.0393  \n",
       "4  0.0380  0.6103  0.0380  "
      ]
     },
     "execution_count": 20,
     "metadata": {},
     "output_type": "execute_result"
    }
   ],
   "source": [
    "# add a temporary column B\n",
    "topic['B']=topic['A']-topic['technology']\n",
    "topic.head()"
   ]
  },
  {
   "cell_type": "code",
   "execution_count": 21,
   "id": "d7fa7770-db94-4a5b-ba90-4796567cf20d",
   "metadata": {},
   "outputs": [],
   "source": [
    "# now classify scores in column B based on the following conditions:\n",
    "\n",
    "classy=[]\n",
    "for b in topic['B']:\n",
    "    if b < 0:\n",
    "        classy.append('neutral')\n",
    "    elif b > 0.05:\n",
    "        classy.append('politics')\n",
    "    else:\n",
    "        classy.append('technology & politics')"
   ]
  },
  {
   "cell_type": "code",
   "execution_count": 23,
   "id": "e43c0065-d15f-4691-9ab2-740a9d37d594",
   "metadata": {},
   "outputs": [
    {
     "data": {
      "text/html": [
       "<div>\n",
       "<style scoped>\n",
       "    .dataframe tbody tr th:only-of-type {\n",
       "        vertical-align: middle;\n",
       "    }\n",
       "\n",
       "    .dataframe tbody tr th {\n",
       "        vertical-align: top;\n",
       "    }\n",
       "\n",
       "    .dataframe thead th {\n",
       "        text-align: right;\n",
       "    }\n",
       "</style>\n",
       "<table border=\"1\" class=\"dataframe\">\n",
       "  <thead>\n",
       "    <tr style=\"text-align: right;\">\n",
       "      <th></th>\n",
       "      <th>tweets</th>\n",
       "      <th>politics</th>\n",
       "      <th>technology</th>\n",
       "      <th>topic</th>\n",
       "    </tr>\n",
       "  </thead>\n",
       "  <tbody>\n",
       "    <tr>\n",
       "      <th>0</th>\n",
       "      <td>sensasi berada di ibu kota nusantara gimana ya...</td>\n",
       "      <td>0.5163</td>\n",
       "      <td>0.5133</td>\n",
       "      <td>technology &amp; politics</td>\n",
       "    </tr>\n",
       "    <tr>\n",
       "      <th>1</th>\n",
       "      <td>dengan metaverse bernama jagat nusantara anda ...</td>\n",
       "      <td>0.6435</td>\n",
       "      <td>0.6426</td>\n",
       "      <td>technology &amp; politics</td>\n",
       "    </tr>\n",
       "    <tr>\n",
       "      <th>2</th>\n",
       "      <td>metaversa memberikan sensasi berada di ibu kot...</td>\n",
       "      <td>0.6308</td>\n",
       "      <td>0.5974</td>\n",
       "      <td>technology &amp; politics</td>\n",
       "    </tr>\n",
       "    <tr>\n",
       "      <th>3</th>\n",
       "      <td>meski pembangunan ikn baru tahap awal melalui ...</td>\n",
       "      <td>0.5758</td>\n",
       "      <td>0.5365</td>\n",
       "      <td>technology &amp; politics</td>\n",
       "    </tr>\n",
       "    <tr>\n",
       "      <th>4</th>\n",
       "      <td>meskipun pembangunan ikn baru tahap awalnamun ...</td>\n",
       "      <td>0.6103</td>\n",
       "      <td>0.5723</td>\n",
       "      <td>technology &amp; politics</td>\n",
       "    </tr>\n",
       "  </tbody>\n",
       "</table>\n",
       "</div>"
      ],
      "text/plain": [
       "                                              tweets  politics  technology  \\\n",
       "0  sensasi berada di ibu kota nusantara gimana ya...    0.5163      0.5133   \n",
       "1  dengan metaverse bernama jagat nusantara anda ...    0.6435      0.6426   \n",
       "2  metaversa memberikan sensasi berada di ibu kot...    0.6308      0.5974   \n",
       "3  meski pembangunan ikn baru tahap awal melalui ...    0.5758      0.5365   \n",
       "4  meskipun pembangunan ikn baru tahap awalnamun ...    0.6103      0.5723   \n",
       "\n",
       "                   topic  \n",
       "0  technology & politics  \n",
       "1  technology & politics  \n",
       "2  technology & politics  \n",
       "3  technology & politics  \n",
       "4  technology & politics  "
      ]
     },
     "execution_count": 23,
     "metadata": {},
     "output_type": "execute_result"
    }
   ],
   "source": [
    "# prepare final dataframe for Tableau\n",
    "\n",
    "topic['topic']=classy\n",
    "topic=topic[['tweets','politics','technology','topic']]\n",
    "topic.head()"
   ]
  },
  {
   "cell_type": "code",
   "execution_count": 25,
   "id": "c984f3c8-96a0-4ea3-8221-16cfd36e48d5",
   "metadata": {},
   "outputs": [],
   "source": [
    "# export for Tableau plotting and presentation:\n",
    "\n",
    "topic.to_csv('../data/topic.csv',index=False)"
   ]
  }
 ],
 "metadata": {
  "kernelspec": {
   "display_name": "Python 3 (ipykernel)",
   "language": "python",
   "name": "python3"
  },
  "language_info": {
   "codemirror_mode": {
    "name": "ipython",
    "version": 3
   },
   "file_extension": ".py",
   "mimetype": "text/x-python",
   "name": "python",
   "nbconvert_exporter": "python",
   "pygments_lexer": "ipython3",
   "version": "3.8.13"
  }
 },
 "nbformat": 4,
 "nbformat_minor": 5
}
